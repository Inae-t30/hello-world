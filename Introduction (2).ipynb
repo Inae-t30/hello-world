{
  "nbformat": 4,
  "nbformat_minor": 0,
  "metadata": {
    "anaconda-cloud": {},
    "kernelspec": {
      "name": "python3",
      "display_name": "Python 3"
    },
    "language_info": {
      "codemirror_mode": {
        "name": "ipython",
        "version": 3
      },
      "file_extension": ".py",
      "mimetype": "text/x-python",
      "name": "python",
      "nbconvert_exporter": "python",
      "pygments_lexer": "ipython3",
      "version": "3.6.7"
    },
    "colab": {
      "name": "Introduction.ipynb",
      "provenance": []
    },
    "accelerator": "GPU"
  },
  "cells": [
    {
      "cell_type": "markdown",
      "metadata": {
        "id": "j6zU4JSXSvOo",
        "colab_type": "text"
      },
      "source": [
        "## 6. Set"
      ]
    },
    {
      "cell_type": "markdown",
      "metadata": {
        "id": "DRDIdYrQSvOp",
        "colab_type": "text"
      },
      "source": [
        "중복을 허용하지 않고 순서가 없다. / 집합에 관련된 것들을 쉽게 처리하기 위해 만들어진 자료형"
      ]
    },
    {
      "cell_type": "code",
      "metadata": {
        "id": "A4kLvKjRSvOq",
        "colab_type": "code",
        "colab": {
          "base_uri": "https://localhost:8080/",
          "height": 34
        },
        "outputId": "1ea8790d-046e-45aa-bd0d-153cb34f7010"
      },
      "source": [
        "print ({1,1,2,3,3,4}) #리스트는 [], 튜플은 (), 딕셔너리는 셋이랑 동일 {}"
      ],
      "execution_count": 3,
      "outputs": [
        {
          "output_type": "stream",
          "text": [
            "{1, 2, 3, 4}\n"
          ],
          "name": "stdout"
        }
      ]
    },
    {
      "cell_type": "code",
      "metadata": {
        "id": "f6dzgseFSvOs",
        "colab_type": "code",
        "colab": {
          "base_uri": "https://localhost:8080/",
          "height": 34
        },
        "outputId": "d4530a45-a970-4e6c-af1d-f527baabbf4e"
      },
      "source": [
        "print ({\"a\",4,2,4,\"a\",\"b\",True})"
      ],
      "execution_count": 4,
      "outputs": [
        {
          "output_type": "stream",
          "text": [
            "{True, 'a', 2, 4, 'b'}\n"
          ],
          "name": "stdout"
        }
      ]
    },
    {
      "cell_type": "code",
      "metadata": {
        "id": "5makq-TQSvOu",
        "colab_type": "code",
        "colab": {
          "base_uri": "https://localhost:8080/",
          "height": 34
        },
        "outputId": "c958067a-8c73-4d7d-8eca-d2645382eb14"
      },
      "source": [
        "# from string\n",
        "set('apple')"
      ],
      "execution_count": 5,
      "outputs": [
        {
          "output_type": "execute_result",
          "data": {
            "text/plain": [
              "{'a', 'e', 'l', 'p'}"
            ]
          },
          "metadata": {
            "tags": []
          },
          "execution_count": 5
        }
      ]
    },
    {
      "cell_type": "code",
      "metadata": {
        "id": "qw84suSiSvO2",
        "colab_type": "code",
        "colab": {
          "base_uri": "https://localhost:8080/",
          "height": 34
        },
        "outputId": "1699e2d9-7cce-47cf-d624-3f9773fb8ce7"
      },
      "source": [
        "# from tuple\n",
        "set((1,1,2,3,3,4))"
      ],
      "execution_count": 6,
      "outputs": [
        {
          "output_type": "execute_result",
          "data": {
            "text/plain": [
              "{1, 2, 3, 4}"
            ]
          },
          "metadata": {
            "tags": []
          },
          "execution_count": 6
        }
      ]
    },
    {
      "cell_type": "code",
      "metadata": {
        "id": "-DfbOC_1SvO8",
        "colab_type": "code",
        "colab": {
          "base_uri": "https://localhost:8080/",
          "height": 34
        },
        "outputId": "a745daae-a020-44df-ed97-023359063021"
      },
      "source": [
        "# from list\n",
        "set([1,1,2,3,3,4])"
      ],
      "execution_count": 7,
      "outputs": [
        {
          "output_type": "execute_result",
          "data": {
            "text/plain": [
              "{1, 2, 3, 4}"
            ]
          },
          "metadata": {
            "tags": []
          },
          "execution_count": 7
        }
      ]
    },
    {
      "cell_type": "code",
      "metadata": {
        "id": "UshjzhnQSvO_",
        "colab_type": "code",
        "colab": {
          "base_uri": "https://localhost:8080/",
          "height": 34
        },
        "outputId": "4b518d33-1333-4689-a581-82fc9ad6ecce"
      },
      "source": [
        "# from dictionary\n",
        "set({'a':1, 'b':2, 'c':3})"
      ],
      "execution_count": 8,
      "outputs": [
        {
          "output_type": "execute_result",
          "data": {
            "text/plain": [
              "{'a', 'b', 'c'}"
            ]
          },
          "metadata": {
            "tags": []
          },
          "execution_count": 8
        }
      ]
    },
    {
      "cell_type": "code",
      "metadata": {
        "id": "Rql19IbeSvPK",
        "colab_type": "code",
        "colab": {
          "base_uri": "https://localhost:8080/",
          "height": 70
        },
        "outputId": "272ee855-4c5d-4f23-cae8-562a3636d534"
      },
      "source": [
        "s1 = set([1, 2, 3, 4, 5, 6])\n",
        "s2 = set([4, 5, 6, 7, 8, 9])\n",
        "\n",
        "print (s1.intersection(s2)) # s1 & s2\n",
        "print (s1.union(s2)) # s1 | s2\n",
        "print (s1.difference(s2)) # s1 - s2"
      ],
      "execution_count": 10,
      "outputs": [
        {
          "output_type": "stream",
          "text": [
            "{4, 5, 6}\n",
            "{1, 2, 3, 4, 5, 6, 7, 8, 9}\n",
            "{1, 2, 3}\n"
          ],
          "name": "stdout"
        }
      ]
    },
    {
      "cell_type": "markdown",
      "metadata": {
        "id": "k1XNXiqkSvPQ",
        "colab_type": "text"
      },
      "source": [
        "## 7. Boolean"
      ]
    },
    {
      "cell_type": "markdown",
      "metadata": {
        "id": "wEDT_lU6SvPR",
        "colab_type": "text"
      },
      "source": [
        "참(True)과 거짓(False)을 나타내는 자료형으로 무엇인가를 판단할 때 사용\n",
        "\n",
        "조건문의 결과값으로 사용"
      ]
    },
    {
      "cell_type": "code",
      "metadata": {
        "id": "osToGp2fSvPT",
        "colab_type": "code",
        "colab": {
          "base_uri": "https://localhost:8080/",
          "height": 52
        },
        "outputId": "08f9dbe4-ce32-4263-fe8e-49c42abb9300"
      },
      "source": [
        "print (type(True))\n",
        "print (type(False))"
      ],
      "execution_count": 11,
      "outputs": [
        {
          "output_type": "stream",
          "text": [
            "<class 'bool'>\n",
            "<class 'bool'>\n"
          ],
          "name": "stdout"
        }
      ]
    },
    {
      "cell_type": "markdown",
      "metadata": {
        "id": "Kn3H0lCgdPKM",
        "colab_type": "text"
      },
      "source": [
        "컴퓨터 과학에서 불리언(boolean) 자료형은 논리 자료형이라고도 하며, 참과 거짓을 나타내는 데 쓰인다. 주로 참은 1, 거짓은 0에 대응하나 언어마다 차이가 있다. 숫자를 쓰지 않고 참과 거짓을 나타내는 영단어 true와 false를 쓰기도 한다."
      ]
    },
    {
      "cell_type": "markdown",
      "metadata": {
        "id": "nXbDA0jqSvPb",
        "colab_type": "text"
      },
      "source": [
        "# Control statement"
      ]
    },
    {
      "cell_type": "markdown",
      "metadata": {
        "id": "Xv7VuHfFSvPh",
        "colab_type": "text"
      },
      "source": [
        "비교 연산자 : 참/거짓을 판단하기 위해 사용되며 참일 경우 True, 거짓일 경우 False를 반환"
      ]
    },
    {
      "cell_type": "code",
      "metadata": {
        "id": "hjXSra-jSvPj",
        "colab_type": "code",
        "colab": {
          "base_uri": "https://localhost:8080/",
          "height": 34
        },
        "outputId": "eb5695a6-150f-491b-e438-1b64b56286f2"
      },
      "source": [
        "print (True == 1)"
      ],
      "execution_count": 12,
      "outputs": [
        {
          "output_type": "stream",
          "text": [
            "True\n"
          ],
          "name": "stdout"
        }
      ]
    },
    {
      "cell_type": "code",
      "metadata": {
        "id": "l0QE6X8uSvPl",
        "colab_type": "code",
        "colab": {
          "base_uri": "https://localhost:8080/",
          "height": 34
        },
        "outputId": "2a9436de-0fc1-4f61-956b-69a35f1a5813"
      },
      "source": [
        "print (False == 0)"
      ],
      "execution_count": 13,
      "outputs": [
        {
          "output_type": "stream",
          "text": [
            "True\n"
          ],
          "name": "stdout"
        }
      ]
    },
    {
      "cell_type": "code",
      "metadata": {
        "id": "vftiYFiJSvPo",
        "colab_type": "code",
        "colab": {
          "base_uri": "https://localhost:8080/",
          "height": 34
        },
        "outputId": "6d3cb422-ac9d-440a-c1b1-0305031fe44f"
      },
      "source": [
        "print (True == False)"
      ],
      "execution_count": 14,
      "outputs": [
        {
          "output_type": "stream",
          "text": [
            "False\n"
          ],
          "name": "stdout"
        }
      ]
    },
    {
      "cell_type": "code",
      "metadata": {
        "id": "XomKuRnXSvPt",
        "colab_type": "code",
        "colab": {
          "base_uri": "https://localhost:8080/",
          "height": 34
        },
        "outputId": "a770abd1-3681-4586-a6be-d0de7ecf5ad0"
      },
      "source": [
        "print (2 > 0)"
      ],
      "execution_count": 15,
      "outputs": [
        {
          "output_type": "stream",
          "text": [
            "True\n"
          ],
          "name": "stdout"
        }
      ]
    },
    {
      "cell_type": "code",
      "metadata": {
        "id": "xZ2Pl5NTSvP2",
        "colab_type": "code",
        "colab": {
          "base_uri": "https://localhost:8080/",
          "height": 34
        },
        "outputId": "c4ae9fc4-01e6-41b5-fc56-d328828020df"
      },
      "source": [
        "print (1 != 2) # 1은 2와 같거나 다르다"
      ],
      "execution_count": 17,
      "outputs": [
        {
          "output_type": "stream",
          "text": [
            "True\n"
          ],
          "name": "stdout"
        }
      ]
    },
    {
      "cell_type": "markdown",
      "metadata": {
        "id": "O6c57fzQSvQD",
        "colab_type": "text"
      },
      "source": [
        "논리 연산자 (and : 모두 참이여야 참 / or : 하나라도 참이면 참 / not : 반대)"
      ]
    },
    {
      "cell_type": "code",
      "metadata": {
        "id": "GqOa3hcHSvQF",
        "colab_type": "code",
        "colab": {
          "base_uri": "https://localhost:8080/",
          "height": 34
        },
        "outputId": "eb837c73-aecf-4ef3-8fe1-665f84e0ba2d"
      },
      "source": [
        "print (True and True)"
      ],
      "execution_count": 18,
      "outputs": [
        {
          "output_type": "stream",
          "text": [
            "True\n"
          ],
          "name": "stdout"
        }
      ]
    },
    {
      "cell_type": "code",
      "metadata": {
        "id": "paAZun75SvQO",
        "colab_type": "code",
        "colab": {
          "base_uri": "https://localhost:8080/",
          "height": 34
        },
        "outputId": "c724ffa2-628b-4e3b-84c2-c6a080b8929e"
      },
      "source": [
        "print (1==1 and 2==2)"
      ],
      "execution_count": 19,
      "outputs": [
        {
          "output_type": "stream",
          "text": [
            "True\n"
          ],
          "name": "stdout"
        }
      ]
    },
    {
      "cell_type": "code",
      "metadata": {
        "id": "y09EaeqzSvQZ",
        "colab_type": "code",
        "colab": {
          "base_uri": "https://localhost:8080/",
          "height": 34
        },
        "outputId": "3b76307c-b2db-423e-91dc-dce5e9d4174a"
      },
      "source": [
        "print (True or False)"
      ],
      "execution_count": 20,
      "outputs": [
        {
          "output_type": "stream",
          "text": [
            "True\n"
          ],
          "name": "stdout"
        }
      ]
    },
    {
      "cell_type": "code",
      "metadata": {
        "id": "V4hxZkK8SvQd",
        "colab_type": "code",
        "colab": {
          "base_uri": "https://localhost:8080/",
          "height": 34
        },
        "outputId": "25e52b40-497b-47ca-8d1d-4a6f8972d6e5"
      },
      "source": [
        "print (1==1 or 1==2)"
      ],
      "execution_count": 21,
      "outputs": [
        {
          "output_type": "stream",
          "text": [
            "True\n"
          ],
          "name": "stdout"
        }
      ]
    },
    {
      "cell_type": "code",
      "metadata": {
        "id": "PJJIoVgrSvQh",
        "colab_type": "code",
        "colab": {
          "base_uri": "https://localhost:8080/",
          "height": 34
        },
        "outputId": "52d8dbd6-6f95-4396-a05e-5ec305427f74"
      },
      "source": [
        "print (not True)"
      ],
      "execution_count": 22,
      "outputs": [
        {
          "output_type": "stream",
          "text": [
            "False\n"
          ],
          "name": "stdout"
        }
      ]
    },
    {
      "cell_type": "markdown",
      "metadata": {
        "id": "GEFPcVuPSvQn",
        "colab_type": "text"
      },
      "source": [
        "## 1. Conditional statement \n",
        "조건에 따라 다른 Action을 실행"
      ]
    },
    {
      "cell_type": "markdown",
      "metadata": {
        "id": "nKQSL-O6SvQp",
        "colab_type": "text"
      },
      "source": [
        "#### if 문 : 조건 검사 후 True 이면 실행"
      ]
    },
    {
      "cell_type": "code",
      "metadata": {
        "id": "0gqF9E4zSvQq",
        "colab_type": "code",
        "colab": {
          "base_uri": "https://localhost:8080/",
          "height": 34
        },
        "outputId": "f25734d1-f41d-498c-f9fc-68dde19f0eb1"
      },
      "source": [
        "a = 10\n",
        "b = 1\n",
        "\n",
        "if a > b:\n",
        "    print ('a is greater than b')\n",
        "\n",
        "if a < b:\n",
        "    print ('a is smaller than b')"
      ],
      "execution_count": 23,
      "outputs": [
        {
          "output_type": "stream",
          "text": [
            "a is greater than b\n"
          ],
          "name": "stdout"
        }
      ]
    },
    {
      "cell_type": "code",
      "metadata": {
        "id": "mJ9aAaILSvQv",
        "colab_type": "code",
        "colab": {
          "base_uri": "https://localhost:8080/",
          "height": 34
        },
        "outputId": "54b6deec-bc7a-4bb8-d292-523fa6b4fa7f"
      },
      "source": [
        "\"\"\" 다음 문장을 코드로 작성하시오.\n",
        "x = 10\n",
        "y = 20\n",
        "\n",
        "만약 y 가 x의 2배라면,\n",
        "    문자열 'YES' 를 출력하시오.\n",
        "\"\"\"\n",
        "# Type your code here\n",
        "\n",
        "x = 10\n",
        "y = 20\n",
        "\n",
        "if x*2 == y:\n",
        "  print(\"YES\")\n",
        "\n"
      ],
      "execution_count": 27,
      "outputs": [
        {
          "output_type": "stream",
          "text": [
            "YES\n"
          ],
          "name": "stdout"
        }
      ]
    },
    {
      "cell_type": "markdown",
      "metadata": {
        "id": "Nc_FQrwYSvQ0",
        "colab_type": "text"
      },
      "source": [
        "#### elif 문 : if 문이 false 이고, 다른 추가적인 조건을 줄 때 사용"
      ]
    },
    {
      "cell_type": "code",
      "metadata": {
        "id": "IpGF2ruaSvQ2",
        "colab_type": "code",
        "colab": {
          "base_uri": "https://localhost:8080/",
          "height": 34
        },
        "outputId": "71d67f27-7e06-497c-aec1-ac8e6c63875c"
      },
      "source": [
        "a = 10\n",
        "b = 10\n",
        "\n",
        "if a > b:\n",
        "    print ('a is greater than b')\n",
        "elif a == b:\n",
        "    print ('a is equal to b')"
      ],
      "execution_count": 28,
      "outputs": [
        {
          "output_type": "stream",
          "text": [
            "a is equal to b\n"
          ],
          "name": "stdout"
        }
      ]
    },
    {
      "cell_type": "markdown",
      "metadata": {
        "id": "gFtim6ZFSvQ5",
        "colab_type": "text"
      },
      "source": [
        "#### else 문 : if 문과 elif 문 검사 후, 둘 다 false 일 때 실행"
      ]
    },
    {
      "cell_type": "code",
      "metadata": {
        "id": "BMNOUVqLSvQ6",
        "colab_type": "code",
        "colab": {
          "base_uri": "https://localhost:8080/",
          "height": 34
        },
        "outputId": "d8947068-5c5b-42b1-bff5-b36a4f239c62"
      },
      "source": [
        "a = 1\n",
        "b = 10\n",
        "\n",
        "if a > b:\n",
        "    print ('a is greater than b')\n",
        "elif a == b:\n",
        "    print ('a is equal to b')\n",
        "else:\n",
        "    print ('a is smaller than b')"
      ],
      "execution_count": 29,
      "outputs": [
        {
          "output_type": "stream",
          "text": [
            "a is smaller than b\n"
          ],
          "name": "stdout"
        }
      ]
    },
    {
      "cell_type": "code",
      "metadata": {
        "id": "IK9QgjnESvQ8",
        "colab_type": "code",
        "colab": {
          "base_uri": "https://localhost:8080/",
          "height": 34
        },
        "outputId": "b32b7067-db3f-422a-f8b8-d8e1c5bed8cc"
      },
      "source": [
        "\"\"\" 다음 문장을 코드로 작성하시오.\n",
        "x = 10\n",
        "y = 20\n",
        "\n",
        "만약 y 가 x의 3배라면,\n",
        "    문자열 'YES' 를 출력하시오.\n",
        "그렇지 않다면,\n",
        "    문자열 'NO' 를 출력하시오.\n",
        "\"\"\"\n",
        "# Type your code here\n",
        "\n",
        "x = 10\n",
        "y = 20\n",
        "\n",
        "if x*3 == y:\n",
        "  print(\"YES\")\n",
        "else:\n",
        "  print(\"NO\")"
      ],
      "execution_count": 30,
      "outputs": [
        {
          "output_type": "stream",
          "text": [
            "NO\n"
          ],
          "name": "stdout"
        }
      ]
    },
    {
      "cell_type": "code",
      "metadata": {
        "id": "drnqGyvUSvQ9",
        "colab_type": "code",
        "colab": {
          "base_uri": "https://localhost:8080/",
          "height": 34
        },
        "outputId": "38cede0b-f371-4b6d-89c3-21dd21941c12"
      },
      "source": [
        "name = \"Damian\"\n",
        "age = 22\n",
        "\n",
        "if age < 10:\n",
        "    pass\n",
        "elif name == 'Damian' and age < 20:\n",
        "    print(\"Damian is a teenager\")\n",
        "elif age > 30:\n",
        "    print(\"Damian is an uncle\")\n",
        "else: \n",
        "    print(\"Damian is awesome!!!\")"
      ],
      "execution_count": 31,
      "outputs": [
        {
          "output_type": "stream",
          "text": [
            "Damian is awesome!!!\n"
          ],
          "name": "stdout"
        }
      ]
    },
    {
      "cell_type": "code",
      "metadata": {
        "id": "xh13WLeMSvQ_",
        "colab_type": "code",
        "colab": {
          "base_uri": "https://localhost:8080/",
          "height": 34
        },
        "outputId": "05722e99-ea0d-458b-c7ed-588dac6d8f4b"
      },
      "source": [
        "num = 10\n",
        "\n",
        "if num > 0:\n",
        "    if num % 2 == 0:\n",
        "        print ('num is even number')\n",
        "elif num == 0:\n",
        "    print ('num is zero')\n",
        "else:\n",
        "    print ('num is negative')"
      ],
      "execution_count": 32,
      "outputs": [
        {
          "output_type": "stream",
          "text": [
            "num is even number\n"
          ],
          "name": "stdout"
        }
      ]
    },
    {
      "cell_type": "markdown",
      "metadata": {
        "id": "zKTkfSS8SvRA",
        "colab_type": "text"
      },
      "source": [
        "#### in 연산자 : 순환가능한 객체 내에 특정 element가 존재하는지 확인 "
      ]
    },
    {
      "cell_type": "markdown",
      "metadata": {
        "id": "TCNGk8pdSvRB",
        "colab_type": "text"
      },
      "source": [
        "Iterable 의 의미는 member를 하나씩 차례로 반환 가능한 object 이다. \n",
        "    ex) list, string, tuple"
      ]
    },
    {
      "cell_type": "code",
      "metadata": {
        "id": "9g0SIJwgSvRB",
        "colab_type": "code",
        "colab": {
          "base_uri": "https://localhost:8080/",
          "height": 34
        },
        "outputId": "04b1ef12-d286-4505-e677-e14507c74e23"
      },
      "source": [
        "\"apple\" in [\"apple\", \"banana\", \"cherry\"]"
      ],
      "execution_count": 33,
      "outputs": [
        {
          "output_type": "execute_result",
          "data": {
            "text/plain": [
              "True"
            ]
          },
          "metadata": {
            "tags": []
          },
          "execution_count": 33
        }
      ]
    },
    {
      "cell_type": "code",
      "metadata": {
        "id": "ezEP8AbwSvRD",
        "colab_type": "code",
        "colab": {
          "base_uri": "https://localhost:8080/",
          "height": 34
        },
        "outputId": "c9c23ad0-3735-41c8-ed51-c75f066bac53"
      },
      "source": [
        "\"apple\" in [\"APPLE\", \"banana\", \"cherry\"]"
      ],
      "execution_count": 34,
      "outputs": [
        {
          "output_type": "execute_result",
          "data": {
            "text/plain": [
              "False"
            ]
          },
          "metadata": {
            "tags": []
          },
          "execution_count": 34
        }
      ]
    },
    {
      "cell_type": "markdown",
      "metadata": {
        "id": "eyELWjgNSvRE",
        "colab_type": "text"
      },
      "source": [
        "#### 참고 : Set VS List (performance)"
      ]
    },
    {
      "cell_type": "code",
      "metadata": {
        "id": "tYjbRNCbSvRE",
        "colab_type": "code",
        "colab": {
          "base_uri": "https://localhost:8080/",
          "height": 52
        },
        "outputId": "7ca5726f-c29a-4e5f-d5f5-89b016d53c49"
      },
      "source": [
        "import time \n",
        "l = list(range(1000000))\n",
        "s = set(l)\n",
        "\n",
        "start = time.time()\n",
        "if 99999 in l:\n",
        "    print ('list performance :', time.time() - start)\n",
        "\n",
        "start = time.time()\n",
        "if 99999 in s:\n",
        "    print ('set performance :', time.time() - start)\n",
        "# List보다 Set이 연산에 효율적이라는걸 보여줌 set은 정보의 순서가 없기 때문\n",
        "# time.time()은 time.time()이 실행될 때의 시간인가봄\n",
        "# 그래서 finish 시간을 따로 지정하지 않고 time.time() - start 하면 되는 부분,,"
      ],
      "execution_count": 37,
      "outputs": [
        {
          "output_type": "stream",
          "text": [
            "list performance : 0.0010902881622314453\n",
            "set performance : 4.076957702636719e-05\n"
          ],
          "name": "stdout"
        }
      ]
    },
    {
      "cell_type": "markdown",
      "metadata": {
        "id": "E_Vt0bngSvRF",
        "colab_type": "text"
      },
      "source": [
        "#### is 연산자 : 같은 객체인지 확인  \n",
        "#### == : 값들이 같은지 확인"
      ]
    },
    {
      "cell_type": "code",
      "metadata": {
        "id": "VOb4U_stSvRF",
        "colab_type": "code",
        "colab": {
          "base_uri": "https://localhost:8080/",
          "height": 70
        },
        "outputId": "4a2b22c0-2379-41ad-a882-07cc9a8f092c"
      },
      "source": [
        "# 모든 객체는 id를 가지고 있음\n",
        "a = 1\n",
        "b = \"apple\"\n",
        "c = 1\n",
        "\n",
        "print (id(a))\n",
        "print (id(b))\n",
        "print (id(c)) # a랑 c랑 다른 변수이지만 1이라는 같은 값(객체)를 가짐"
      ],
      "execution_count": 41,
      "outputs": [
        {
          "output_type": "stream",
          "text": [
            "10914496\n",
            "140381634055224\n",
            "10914496\n"
          ],
          "name": "stdout"
        }
      ]
    },
    {
      "cell_type": "code",
      "metadata": {
        "id": "PM6c18chSvRH",
        "colab_type": "code",
        "colab": {
          "base_uri": "https://localhost:8080/",
          "height": 87
        },
        "outputId": "19b1df45-36f1-4ded-afe5-991843710df9"
      },
      "source": [
        "x = [1,2,3]\n",
        "y = [1,2,3]\n",
        "\n",
        "print (x == y)\n",
        "print (x is y)\n",
        "print (\"x id :\", id(x))\n",
        "print (\"y id :\", id(y)) # x랑 y랑 같은 리스트이지만 다른 객체,, 왜..?"
      ],
      "execution_count": 43,
      "outputs": [
        {
          "output_type": "stream",
          "text": [
            "True\n",
            "False\n",
            "x id : 140381642630792\n",
            "y id : 140381633676552\n"
          ],
          "name": "stdout"
        }
      ]
    },
    {
      "cell_type": "markdown",
      "metadata": {
        "id": "eE43yOhnSvRK",
        "colab_type": "text"
      },
      "source": [
        "## 2. Looping statement\n",
        "반복하여 Action을 실행"
      ]
    },
    {
      "cell_type": "markdown",
      "metadata": {
        "id": "f6JXiluQSvRM",
        "colab_type": "text"
      },
      "source": [
        "#### for 문 : 순환가능한 객체에 차례로 접근"
      ]
    },
    {
      "cell_type": "code",
      "metadata": {
        "id": "8sK0sWscSvRM",
        "colab_type": "code",
        "colab": {
          "base_uri": "https://localhost:8080/",
          "height": 70
        },
        "outputId": "47550463-a400-4829-8e1d-f3f2e80b9f7a"
      },
      "source": [
        "for i in 'cat':\n",
        "    print (i)"
      ],
      "execution_count": 44,
      "outputs": [
        {
          "output_type": "stream",
          "text": [
            "c\n",
            "a\n",
            "t\n"
          ],
          "name": "stdout"
        }
      ]
    },
    {
      "cell_type": "code",
      "metadata": {
        "id": "L_rxFR1oSvRO",
        "colab_type": "code",
        "colab": {
          "base_uri": "https://localhost:8080/",
          "height": 70
        },
        "outputId": "5855509b-7e9c-47a5-e772-f2c884543246"
      },
      "source": [
        "for i in [1,2,3]:\n",
        "    print (i)"
      ],
      "execution_count": 45,
      "outputs": [
        {
          "output_type": "stream",
          "text": [
            "1\n",
            "2\n",
            "3\n"
          ],
          "name": "stdout"
        }
      ]
    },
    {
      "cell_type": "code",
      "metadata": {
        "id": "drGXOjHDSvRP",
        "colab_type": "code",
        "colab": {
          "base_uri": "https://localhost:8080/",
          "height": 70
        },
        "outputId": "4be3eb14-2a4d-44e1-f7bf-dea6f543dfb9"
      },
      "source": [
        "for i in (10,20,30):\n",
        "    print (i)"
      ],
      "execution_count": 46,
      "outputs": [
        {
          "output_type": "stream",
          "text": [
            "10\n",
            "20\n",
            "30\n"
          ],
          "name": "stdout"
        }
      ]
    },
    {
      "cell_type": "code",
      "metadata": {
        "id": "ExEI0rfASvRR",
        "colab_type": "code",
        "colab": {
          "base_uri": "https://localhost:8080/",
          "height": 52
        },
        "outputId": "756563d2-cefb-4573-c9a8-16b887cb1dcd"
      },
      "source": [
        "for i in {'name':'Damian', 'age':22}:\n",
        "    print (i)"
      ],
      "execution_count": 47,
      "outputs": [
        {
          "output_type": "stream",
          "text": [
            "name\n",
            "age\n"
          ],
          "name": "stdout"
        }
      ]
    },
    {
      "cell_type": "code",
      "metadata": {
        "scrolled": false,
        "id": "k3lvYCrHSvRT",
        "colab_type": "code",
        "colab": {
          "base_uri": "https://localhost:8080/",
          "height": 193
        },
        "outputId": "436657a1-aa14-40a8-d1f4-a33e3efab8ec"
      },
      "source": [
        "for x in range(10): # range 함수 : 순차적으로 증가 또는 감소하는 숫자 생성 / 메모리 효율성\n",
        "    print(x)"
      ],
      "execution_count": 48,
      "outputs": [
        {
          "output_type": "stream",
          "text": [
            "0\n",
            "1\n",
            "2\n",
            "3\n",
            "4\n",
            "5\n",
            "6\n",
            "7\n",
            "8\n",
            "9\n"
          ],
          "name": "stdout"
        }
      ]
    },
    {
      "cell_type": "code",
      "metadata": {
        "id": "AwhI8PjOSvRY",
        "colab_type": "code",
        "colab": {
          "base_uri": "https://localhost:8080/",
          "height": 34
        },
        "outputId": "be29acc8-cbc4-401a-b07a-5b06be3243df"
      },
      "source": [
        "list_from_range = list(range(10))\n",
        "print (list_from_range)"
      ],
      "execution_count": 50,
      "outputs": [
        {
          "output_type": "stream",
          "text": [
            "[0, 1, 2, 3, 4, 5, 6, 7, 8, 9]\n"
          ],
          "name": "stdout"
        }
      ]
    },
    {
      "cell_type": "code",
      "metadata": {
        "scrolled": true,
        "id": "mMHn84IQSvRc",
        "colab_type": "code",
        "colab": {
          "base_uri": "https://localhost:8080/",
          "height": 34
        },
        "outputId": "9f754cf8-3ab2-42d5-c326-a95a5a83c145"
      },
      "source": [
        "# range 함수를 사용하여, 리스트 [20, 15, 10, 5, 0] 를 생성하시오.\n",
        "start = 20\n",
        "stop = -5\n",
        "step = -5\n",
        "\n",
        "answer = list(range(start, stop, step))\n",
        "print (answer)"
      ],
      "execution_count": 52,
      "outputs": [
        {
          "output_type": "stream",
          "text": [
            "[20, 15, 10, 5, 0]\n"
          ],
          "name": "stdout"
        }
      ]
    },
    {
      "cell_type": "code",
      "metadata": {
        "id": "Pp6_Ztf_SvRe",
        "colab_type": "code",
        "colab": {
          "base_uri": "https://localhost:8080/",
          "height": 87
        },
        "outputId": "9f9d2107-9b5b-4ecb-b84a-e66479d1774b"
      },
      "source": [
        "import sys\n",
        "\n",
        "print ('memory for range(10) : ' , sys.getsizeof(range(10)))\n",
        "print ('memory for range(100) : ' , sys.getsizeof(range(100)))\n",
        "print ('memory for list(10) : ', sys.getsizeof(list(range(10))))\n",
        "print ('memory for list(100) : ', sys.getsizeof(list(range(100))))"
      ],
      "execution_count": 53,
      "outputs": [
        {
          "output_type": "stream",
          "text": [
            "memory for range(10) :  48\n",
            "memory for range(100) :  48\n",
            "memory for list(10) :  200\n",
            "memory for list(100) :  1008\n"
          ],
          "name": "stdout"
        }
      ]
    },
    {
      "cell_type": "markdown",
      "metadata": {
        "id": "wOUTF6y9SvRh",
        "colab_type": "text"
      },
      "source": [
        "#### while 문 : 조건문이 참인 동안 실행"
      ]
    },
    {
      "cell_type": "code",
      "metadata": {
        "id": "7fiL2ny5SvRj",
        "colab_type": "code",
        "colab": {
          "base_uri": "https://localhost:8080/",
          "height": 105
        },
        "outputId": "faf7909c-95cf-40cc-8e00-24641de9cac6"
      },
      "source": [
        "count = 0\n",
        "while count < 5:\n",
        "    print(count)\n",
        "    count += 1"
      ],
      "execution_count": 54,
      "outputs": [
        {
          "output_type": "stream",
          "text": [
            "0\n",
            "1\n",
            "2\n",
            "3\n",
            "4\n"
          ],
          "name": "stdout"
        }
      ]
    },
    {
      "cell_type": "markdown",
      "metadata": {
        "id": "A_RCIYnzSvRl",
        "colab_type": "text"
      },
      "source": [
        "#### break 문 : 가장 내부의 반복문 빠져나감\n",
        "#### continue 문 : 다음 순환을 실행\n",
        "#### else : break 만나지 않고 정상적으로 반복문이 종료되었을때 실행"
      ]
    },
    {
      "cell_type": "code",
      "metadata": {
        "id": "Sa3eJVrLSvRn",
        "colab_type": "code",
        "colab": {
          "base_uri": "https://localhost:8080/",
          "height": 105
        },
        "outputId": "3b6281ca-9e9f-4182-de95-3a8cbd17b679"
      },
      "source": [
        "for i in range(1,11):\n",
        "    if i > 5 :\n",
        "        break \n",
        "    print (i)\n",
        "else : \n",
        "    print (\"Exit without break\")"
      ],
      "execution_count": 58,
      "outputs": [
        {
          "output_type": "stream",
          "text": [
            "1\n",
            "2\n",
            "3\n",
            "4\n",
            "5\n"
          ],
          "name": "stdout"
        }
      ]
    },
    {
      "cell_type": "code",
      "metadata": {
        "id": "c1GyWnT7aP8J",
        "colab_type": "code",
        "colab": {
          "base_uri": "https://localhost:8080/",
          "height": 105
        },
        "outputId": "276042e1-73c8-4133-91e4-1be37ec159b0"
      },
      "source": [
        "for i in range(1,5):\n",
        "    if i > 5 :\n",
        "        break \n",
        "    print (i)\n",
        "else : \n",
        "    print (\"Exit without break\")"
      ],
      "execution_count": 60,
      "outputs": [
        {
          "output_type": "stream",
          "text": [
            "1\n",
            "2\n",
            "3\n",
            "4\n",
            "Exit without break\n"
          ],
          "name": "stdout"
        }
      ]
    },
    {
      "cell_type": "code",
      "metadata": {
        "id": "BETeLHWkSvRp",
        "colab_type": "code",
        "colab": {
          "base_uri": "https://localhost:8080/",
          "height": 122
        },
        "outputId": "d7e0cd98-66a1-4f3f-c8db-bb36f92350ff"
      },
      "source": [
        "for i in range(1,11):\n",
        "    if i % 2 == 0 :\n",
        "        continue \n",
        "    print (i)\n",
        "else : \n",
        "    print (\"Exit without break\")"
      ],
      "execution_count": 61,
      "outputs": [
        {
          "output_type": "stream",
          "text": [
            "1\n",
            "3\n",
            "5\n",
            "7\n",
            "9\n",
            "Exit without break\n"
          ],
          "name": "stdout"
        }
      ]
    },
    {
      "cell_type": "code",
      "metadata": {
        "id": "CwBLCylFSvRs",
        "colab_type": "code",
        "colab": {
          "base_uri": "https://localhost:8080/",
          "height": 210
        },
        "outputId": "49633c9d-c02e-4a1f-a25b-dd994293ffae"
      },
      "source": [
        "# 1부터 20까지의 리스트 [1,2,3,...,20]를 만들고 홀수만 출력하시오.\n",
        "a = list(range(1,21))\n",
        "print(a)\n",
        "\n",
        "for element in a:\n",
        "    if element % 2 == 1 : # 홀수인지 확인\n",
        "        print (element)"
      ],
      "execution_count": 72,
      "outputs": [
        {
          "output_type": "stream",
          "text": [
            "[1, 2, 3, 4, 5, 6, 7, 8, 9, 10, 11, 12, 13, 14, 15, 16, 17, 18, 19, 20]\n",
            "1\n",
            "3\n",
            "5\n",
            "7\n",
            "9\n",
            "11\n",
            "13\n",
            "15\n",
            "17\n",
            "19\n"
          ],
          "name": "stdout"
        }
      ]
    }
  ]
}