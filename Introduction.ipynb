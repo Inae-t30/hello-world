{
  "nbformat": 4,
  "nbformat_minor": 0,
  "metadata": {
    "anaconda-cloud": {},
    "kernelspec": {
      "name": "python3",
      "display_name": "Python 3"
    },
    "language_info": {
      "codemirror_mode": {
        "name": "ipython",
        "version": 3
      },
      "file_extension": ".py",
      "mimetype": "text/x-python",
      "name": "python",
      "nbconvert_exporter": "python",
      "pygments_lexer": "ipython3",
      "version": "3.6.7"
    },
    "colab": {
      "name": "Introduction.ipynb",
      "provenance": []
    },
    "accelerator": "GPU"
  },
  "cells": [
    {
      "cell_type": "markdown",
      "metadata": {
        "id": "dt1Wx1l7VwtS",
        "colab_type": "text"
      },
      "source": [
        "# Hello World in Python"
      ]
    },
    {
      "cell_type": "code",
      "metadata": {
        "id": "N2T3cx9aVwtX",
        "colab_type": "code",
        "colab": {
          "base_uri": "https://localhost:8080/",
          "height": 34
        },
        "outputId": "9646ff53-c75d-4baf-de10-ccf5453e914d"
      },
      "source": [
        "# 결과물을 화면에 출력\n",
        "print (\"Hello World!\")"
      ],
      "execution_count": 1,
      "outputs": [
        {
          "output_type": "stream",
          "text": [
            "Hello World!\n"
          ],
          "name": "stdout"
        }
      ]
    },
    {
      "cell_type": "code",
      "metadata": {
        "id": "zP2qGHGMVwtg",
        "colab_type": "code",
        "colab": {
          "base_uri": "https://localhost:8080/",
          "height": 34
        },
        "outputId": "24b7109d-a583-4b29-ea2d-725047bf2d05"
      },
      "source": [
        "print (\"Hello\\tWorld\")"
      ],
      "execution_count": 1,
      "outputs": [
        {
          "output_type": "stream",
          "text": [
            "Hello\tWorld\n"
          ],
          "name": "stdout"
        }
      ]
    },
    {
      "cell_type": "code",
      "metadata": {
        "id": "R4z-hSgZkDoS",
        "colab_type": "code",
        "colab": {
          "base_uri": "https://localhost:8080/",
          "height": 34
        },
        "outputId": "810e334b-04dc-41c8-9309-7f57850f5f29"
      },
      "source": [
        "print ('IN\\tAE')"
      ],
      "execution_count": 4,
      "outputs": [
        {
          "output_type": "stream",
          "text": [
            "IN\tAE\n"
          ],
          "name": "stdout"
        }
      ]
    },
    {
      "cell_type": "code",
      "metadata": {
        "id": "ixK07hnoVwtm",
        "colab_type": "code",
        "colab": {
          "base_uri": "https://localhost:8080/",
          "height": 52
        },
        "outputId": "81d5fc4a-ec73-4d10-a2db-c29f2e36260b"
      },
      "source": [
        "print (\"Hello\\nWorld!\")"
      ],
      "execution_count": 2,
      "outputs": [
        {
          "output_type": "stream",
          "text": [
            "Hello\n",
            "World!\n"
          ],
          "name": "stdout"
        }
      ]
    },
    {
      "cell_type": "code",
      "metadata": {
        "id": "om-fu0qtVwtt",
        "colab_type": "code",
        "colab": {
          "base_uri": "https://localhost:8080/",
          "height": 228
        },
        "outputId": "9e33543a-0be2-4000-81d0-3cba69691745"
      },
      "source": [
        "help(print) # help 함수 : 함수의 도움말"
      ],
      "execution_count": 5,
      "outputs": [
        {
          "output_type": "stream",
          "text": [
            "Help on built-in function print in module builtins:\n",
            "\n",
            "print(...)\n",
            "    print(value, ..., sep=' ', end='\\n', file=sys.stdout, flush=False)\n",
            "    \n",
            "    Prints the values to a stream, or to sys.stdout by default.\n",
            "    Optional keyword arguments:\n",
            "    file:  a file-like object (stream); defaults to the current sys.stdout.\n",
            "    sep:   string inserted between values, default a space.\n",
            "    end:   string appended after the last value, default a newline.\n",
            "    flush: whether to forcibly flush the stream.\n",
            "\n"
          ],
          "name": "stdout"
        }
      ]
    },
    {
      "cell_type": "code",
      "metadata": {
        "id": "jMcuxt5LVwtw",
        "colab_type": "code",
        "colab": {
          "base_uri": "https://localhost:8080/",
          "height": 34
        },
        "outputId": "8ce6b9c0-eb3b-47d7-82da-806126d4de44"
      },
      "source": [
        "print ('18','12','01')"
      ],
      "execution_count": 6,
      "outputs": [
        {
          "output_type": "stream",
          "text": [
            "18 12 01\n"
          ],
          "name": "stdout"
        }
      ]
    },
    {
      "cell_type": "code",
      "metadata": {
        "id": "5EfKuUWuVwt1",
        "colab_type": "code",
        "colab": {
          "base_uri": "https://localhost:8080/",
          "height": 52
        },
        "outputId": "f0cc3dee-b0e2-4de0-ba3f-aa44e5341525"
      },
      "source": [
        "print ('18','12','01', end='\\n')\n",
        "print ('a')"
      ],
      "execution_count": 12,
      "outputs": [
        {
          "output_type": "stream",
          "text": [
            "18 12 01\n",
            "a\n"
          ],
          "name": "stdout"
        }
      ]
    },
    {
      "cell_type": "code",
      "metadata": {
        "id": "K5Ov-65Okzqc",
        "colab_type": "code",
        "colab": {
          "base_uri": "https://localhost:8080/",
          "height": 34
        },
        "outputId": "863b9f1c-2d2c-45b9-8e31-bda81b89309b"
      },
      "source": [
        "print('1','2','3', sep='&')"
      ],
      "execution_count": 13,
      "outputs": [
        {
          "output_type": "stream",
          "text": [
            "1&2&3\n"
          ],
          "name": "stdout"
        }
      ]
    },
    {
      "cell_type": "code",
      "metadata": {
        "id": "ll1etqFolARr",
        "colab_type": "code",
        "colab": {
          "base_uri": "https://localhost:8080/",
          "height": 34
        },
        "outputId": "3b2cb613-9752-4d5d-fb9d-17880723d299"
      },
      "source": [
        "print('1','2', end = 'g' '3')"
      ],
      "execution_count": 17,
      "outputs": [
        {
          "output_type": "stream",
          "text": [
            "1 2g3"
          ],
          "name": "stdout"
        }
      ]
    },
    {
      "cell_type": "code",
      "metadata": {
        "id": "P_Wpnd-xlJGU",
        "colab_type": "code",
        "colab": {
          "base_uri": "https://localhost:8080/",
          "height": 34
        },
        "outputId": "b64666c6-b944-4955-ce4a-5fbadc0ca154"
      },
      "source": [
        "print(flush = True)"
      ],
      "execution_count": 25,
      "outputs": [
        {
          "output_type": "stream",
          "text": [
            "\n"
          ],
          "name": "stdout"
        }
      ]
    },
    {
      "cell_type": "markdown",
      "metadata": {
        "id": "MMyseuEaVwt-",
        "colab_type": "text"
      },
      "source": [
        "# Python as calculator"
      ]
    },
    {
      "cell_type": "code",
      "metadata": {
        "id": "WhkamvusVwuA",
        "colab_type": "code",
        "colab": {
          "base_uri": "https://localhost:8080/",
          "height": 34
        },
        "outputId": "a74c6f7c-edd5-46ec-cf94-97ba75dc11b5"
      },
      "source": [
        "# 덧셈\n",
        "1 + 1"
      ],
      "execution_count": 26,
      "outputs": [
        {
          "output_type": "execute_result",
          "data": {
            "text/plain": [
              "2"
            ]
          },
          "metadata": {
            "tags": []
          },
          "execution_count": 26
        }
      ]
    },
    {
      "cell_type": "code",
      "metadata": {
        "id": "ViOYTfo3VwuD",
        "colab_type": "code",
        "colab": {
          "base_uri": "https://localhost:8080/",
          "height": 34
        },
        "outputId": "309170ee-ec38-4310-d886-9ed0448ec0b3"
      },
      "source": [
        "# 뺄셈\n",
        "130 - 2.0  "
      ],
      "execution_count": 27,
      "outputs": [
        {
          "output_type": "execute_result",
          "data": {
            "text/plain": [
              "128.0"
            ]
          },
          "metadata": {
            "tags": []
          },
          "execution_count": 27
        }
      ]
    },
    {
      "cell_type": "code",
      "metadata": {
        "id": "ObV3Ofn7VwuH",
        "colab_type": "code",
        "colab": {
          "base_uri": "https://localhost:8080/",
          "height": 34
        },
        "outputId": "e05b9ef5-0613-44c5-d597-d014c127cf3a"
      },
      "source": [
        "# 나눗셈\n",
        "131 / 2  "
      ],
      "execution_count": 28,
      "outputs": [
        {
          "output_type": "execute_result",
          "data": {
            "text/plain": [
              "65.5"
            ]
          },
          "metadata": {
            "tags": []
          },
          "execution_count": 28
        }
      ]
    },
    {
      "cell_type": "code",
      "metadata": {
        "id": "wKEmDYIwVwuM",
        "colab_type": "code",
        "colab": {
          "base_uri": "https://localhost:8080/",
          "height": 34
        },
        "outputId": "fdf35e3a-827a-4586-a896-6f7aa8713813"
      },
      "source": [
        "# 곱셈\n",
        "2 * 3"
      ],
      "execution_count": 29,
      "outputs": [
        {
          "output_type": "execute_result",
          "data": {
            "text/plain": [
              "6"
            ]
          },
          "metadata": {
            "tags": []
          },
          "execution_count": 29
        }
      ]
    },
    {
      "cell_type": "code",
      "metadata": {
        "id": "-tYMC1b_VwuP",
        "colab_type": "code",
        "colab": {
          "base_uri": "https://localhost:8080/",
          "height": 34
        },
        "outputId": "c7497943-b15a-46c2-dcc4-6b9dd98cdc0b"
      },
      "source": [
        "# 거듭제곱(pow function)\n",
        "2 ** 3"
      ],
      "execution_count": 30,
      "outputs": [
        {
          "output_type": "execute_result",
          "data": {
            "text/plain": [
              "8"
            ]
          },
          "metadata": {
            "tags": []
          },
          "execution_count": 30
        }
      ]
    },
    {
      "cell_type": "code",
      "metadata": {
        "id": "oeYt10mOVwuT",
        "colab_type": "code",
        "colab": {
          "base_uri": "https://localhost:8080/",
          "height": 34
        },
        "outputId": "208fb8ab-71e2-409e-c502-ae81292d311b"
      },
      "source": [
        "# 나머지\n",
        "10 % 3"
      ],
      "execution_count": 31,
      "outputs": [
        {
          "output_type": "execute_result",
          "data": {
            "text/plain": [
              "1"
            ]
          },
          "metadata": {
            "tags": []
          },
          "execution_count": 31
        }
      ]
    },
    {
      "cell_type": "code",
      "metadata": {
        "id": "IMMsXGG6VwuW",
        "colab_type": "code",
        "colab": {
          "base_uri": "https://localhost:8080/",
          "height": 34
        },
        "outputId": "c9bb2476-8928-4146-b89d-7c488a467ec9"
      },
      "source": [
        "# 몫\n",
        "10 // 3"
      ],
      "execution_count": 32,
      "outputs": [
        {
          "output_type": "execute_result",
          "data": {
            "text/plain": [
              "3"
            ]
          },
          "metadata": {
            "tags": []
          },
          "execution_count": 32
        }
      ]
    },
    {
      "cell_type": "code",
      "metadata": {
        "id": "0KIxDmM9Vwua",
        "colab_type": "code",
        "colab": {
          "base_uri": "https://localhost:8080/",
          "height": 34
        },
        "outputId": "2574b3bf-cc1e-45bb-da08-8e96f42cbaaf"
      },
      "source": [
        "# 반올림\n",
        "round(131 / 2)"
      ],
      "execution_count": 33,
      "outputs": [
        {
          "output_type": "execute_result",
          "data": {
            "text/plain": [
              "66"
            ]
          },
          "metadata": {
            "tags": []
          },
          "execution_count": 33
        }
      ]
    },
    {
      "cell_type": "code",
      "metadata": {
        "id": "TNbSsUgSVwue",
        "colab_type": "code",
        "colab": {
          "base_uri": "https://localhost:8080/",
          "height": 34
        },
        "outputId": "24879f2e-86cd-4839-f98b-7076acdbf492"
      },
      "source": [
        "# 12345 와 67890 을 곱한 결과를 화면에 출력하시오\n",
        "12345 * 67890"
      ],
      "execution_count": 34,
      "outputs": [
        {
          "output_type": "execute_result",
          "data": {
            "text/plain": [
              "838102050"
            ]
          },
          "metadata": {
            "tags": []
          },
          "execution_count": 34
        }
      ]
    },
    {
      "cell_type": "code",
      "metadata": {
        "id": "rQ7vYiqTVwui",
        "colab_type": "code",
        "colab": {}
      },
      "source": [
        "# 모듈(module) : 함수나 변수 또는 클래스 들을 모아 놓은 파일\n",
        "import math"
      ],
      "execution_count": 0,
      "outputs": []
    },
    {
      "cell_type": "code",
      "metadata": {
        "id": "7elQ5KQZVwul",
        "colab_type": "code",
        "colab": {}
      },
      "source": [
        "# 올림\n",
        "math.ceil(131 / 2)"
      ],
      "execution_count": 0,
      "outputs": []
    },
    {
      "cell_type": "code",
      "metadata": {
        "id": "GQnPQRa_Vwuo",
        "colab_type": "code",
        "colab": {}
      },
      "source": [
        "# 버림\n",
        "math.floor(131 / 2)"
      ],
      "execution_count": 0,
      "outputs": []
    },
    {
      "cell_type": "markdown",
      "metadata": {
        "id": "mPcPYsyOVwus",
        "colab_type": "text"
      },
      "source": [
        "# Python indentations\n",
        "파이썬은 코드 블록을 나타내기 위해 들여쓰기를 사용함(C/C++, Java 등의 타 언어는 { } 사용)\n",
        "\n",
        "코드 블록 : 특정한 동작을 위해서 코드가 모여 있는 상태"
      ]
    },
    {
      "cell_type": "code",
      "metadata": {
        "id": "sSeT6FDpVwuu",
        "colab_type": "code",
        "colab": {}
      },
      "source": [
        "if 5 > 2:\n",
        "    print(\"Hello, World\")\n",
        "    print(\"Five is bigger than Two.\")"
      ],
      "execution_count": 0,
      "outputs": []
    },
    {
      "cell_type": "code",
      "metadata": {
        "id": "_aEFhpHNVwu1",
        "colab_type": "code",
        "colab": {}
      },
      "source": [
        "if 5 > 2:\n",
        "    print(\"Hello, World\")\n",
        "print(\"Five is bigger than Two.\")"
      ],
      "execution_count": 0,
      "outputs": []
    },
    {
      "cell_type": "code",
      "metadata": {
        "id": "Ab6bYKhqVwu-",
        "colab_type": "code",
        "colab": {}
      },
      "source": [
        "if 5 < 2:\n",
        "    print(\"Hello, World\")\n",
        "print(\"Five is bigger than Two.\")"
      ],
      "execution_count": 0,
      "outputs": []
    },
    {
      "cell_type": "code",
      "metadata": {
        "scrolled": true,
        "id": "sQFIibFAVwvH",
        "colab_type": "code",
        "colab": {}
      },
      "source": [
        "if 5 > 2:\n",
        "print(\"Hello, World\")\n",
        "print(\"Five is bigger than Two.\")"
      ],
      "execution_count": 0,
      "outputs": []
    },
    {
      "cell_type": "code",
      "metadata": {
        "id": "xsM06MbNVwvP",
        "colab_type": "code",
        "colab": {}
      },
      "source": [
        " "
      ],
      "execution_count": 0,
      "outputs": []
    },
    {
      "cell_type": "markdown",
      "metadata": {
        "id": "NIQCVN6xVwvT",
        "colab_type": "text"
      },
      "source": [
        "# Python variable types\n",
        "\n",
        "지금부터 다양한 Python의 변수 type들을 배워보자.\n",
        "\n",
        "기억할 점은, Python의 모든 변수(variable)은 클래스로 정의된 객체라는 점이다. "
      ]
    },
    {
      "cell_type": "markdown",
      "metadata": {
        "id": "YS4-udtKVwvV",
        "colab_type": "text"
      },
      "source": [
        "![title](https://github.com/hukim1112/DLCV_UOS/blob/master/lecture1/cookie.png?raw=1)"
      ]
    },
    {
      "cell_type": "markdown",
      "metadata": {
        "id": "NVGHQ8lTVwvW",
        "colab_type": "text"
      },
      "source": [
        "과자틀 → 클래스 (class)\n",
        "\n",
        "과자틀에 의해서 만들어진 과자들 → 객체 (object)"
      ]
    },
    {
      "cell_type": "code",
      "metadata": {
        "id": "v5JH4SX1VwvX",
        "colab_type": "code",
        "colab": {}
      },
      "source": [
        "class cookie:\n",
        "    \n",
        "    shape = \"circle\" # attribute\n",
        "    \n",
        "    def __init__(self, topping): \n",
        "        self.topping = topping\n",
        "     \n",
        "    def print_info(self): # method\n",
        "        print ('This is ' + self.topping + ' cookie')"
      ],
      "execution_count": 0,
      "outputs": []
    },
    {
      "cell_type": "code",
      "metadata": {
        "id": "JkE9IAAsVwvb",
        "colab_type": "code",
        "colab": {}
      },
      "source": [
        "c1=cookie('chocolate')\n",
        "print (c1.shape)\n",
        "c1.print_info()"
      ],
      "execution_count": 0,
      "outputs": []
    },
    {
      "cell_type": "code",
      "metadata": {
        "scrolled": true,
        "id": "E13LkFtMVwvh",
        "colab_type": "code",
        "colab": {}
      },
      "source": [
        "c2=cookie('vanilla')\n",
        "print (c2.shape)\n",
        "c2.print_info()"
      ],
      "execution_count": 0,
      "outputs": []
    },
    {
      "cell_type": "code",
      "metadata": {
        "id": "F5bxJSZHVwvm",
        "colab_type": "code",
        "colab": {}
      },
      "source": [
        "c3=cookie('melon')\n",
        "print (c3.shape)\n",
        "c3.print_info()"
      ],
      "execution_count": 0,
      "outputs": []
    },
    {
      "cell_type": "code",
      "metadata": {
        "id": "-sH49HqCVwvu",
        "colab_type": "code",
        "colab": {}
      },
      "source": [
        ""
      ],
      "execution_count": 0,
      "outputs": []
    },
    {
      "cell_type": "code",
      "metadata": {
        "id": "ZfmqE4ZgVwv5",
        "colab_type": "code",
        "colab": {}
      },
      "source": [
        "x = 5\n",
        "y = 2.5\n",
        "z = \"John\"\n",
        "print(x)\n",
        "print(x+y)\n",
        "print(z)"
      ],
      "execution_count": 0,
      "outputs": []
    },
    {
      "cell_type": "code",
      "metadata": {
        "id": "faz1KGJfVwwC",
        "colab_type": "code",
        "colab": {}
      },
      "source": [
        "x = 5\n",
        "print (x)\n",
        "x = \"five\"\n",
        "print (x)"
      ],
      "execution_count": 0,
      "outputs": []
    },
    {
      "cell_type": "code",
      "metadata": {
        "id": "bYqcQicYVwwG",
        "colab_type": "code",
        "colab": {}
      },
      "source": [
        "print ('x is', x)\n",
        "print ('y is', y)\n",
        "print ('His name is', z)"
      ],
      "execution_count": 0,
      "outputs": []
    },
    {
      "cell_type": "markdown",
      "metadata": {
        "id": "YHOacmveVwwJ",
        "colab_type": "text"
      },
      "source": [
        "## 1. Python Numbers\n",
        "\n",
        "Python에는 세 가지 수치 타입이 있다.\n",
        "\n",
        "- 정수형(integer)인 int.\n",
        "- 소수형(floating number)인 float\n",
        "- 복소수형(complex number)인 complex"
      ]
    },
    {
      "cell_type": "code",
      "metadata": {
        "id": "CkiaUghyVwwK",
        "colab_type": "code",
        "colab": {}
      },
      "source": [
        "x = 1 \n",
        "y = 2.8 \n",
        "z = 2 + 1j "
      ],
      "execution_count": 0,
      "outputs": []
    },
    {
      "cell_type": "code",
      "metadata": {
        "id": "Nj2dlg6cVwwO",
        "colab_type": "code",
        "colab": {}
      },
      "source": [
        "print(type(x)) # int 클래스의 객체\n",
        "print(type(y)) # float 클래스의 객체\n",
        "print(type(z)) # complex 클래스의 객체"
      ],
      "execution_count": 0,
      "outputs": []
    },
    {
      "cell_type": "markdown",
      "metadata": {
        "id": "X3u8cEJnVwwU",
        "colab_type": "text"
      },
      "source": [
        "## 2. String"
      ]
    },
    {
      "cell_type": "code",
      "metadata": {
        "id": "9QbOyIEZVwwW",
        "colab_type": "code",
        "colab": {}
      },
      "source": [
        "a = \"Hello, World!\""
      ],
      "execution_count": 0,
      "outputs": []
    },
    {
      "cell_type": "code",
      "metadata": {
        "id": "P3sOETM7Vwwc",
        "colab_type": "code",
        "colab": {}
      },
      "source": [
        "print(type(a)) # string 클래스의 객체\n",
        "print(a[0], a[1], a[2], a[3], a[4]) # indexing"
      ],
      "execution_count": 0,
      "outputs": []
    },
    {
      "cell_type": "code",
      "metadata": {
        "id": "HXxMkRSAVwwh",
        "colab_type": "code",
        "colab": {}
      },
      "source": [
        "a.index('W')"
      ],
      "execution_count": 0,
      "outputs": []
    },
    {
      "cell_type": "code",
      "metadata": {
        "id": "-hvzMK7xVwwn",
        "colab_type": "code",
        "colab": {}
      },
      "source": [
        "a.find('W')"
      ],
      "execution_count": 0,
      "outputs": []
    },
    {
      "cell_type": "code",
      "metadata": {
        "id": "aJ1p9__mVwww",
        "colab_type": "code",
        "colab": {}
      },
      "source": [
        "len(a)"
      ],
      "execution_count": 0,
      "outputs": []
    },
    {
      "cell_type": "code",
      "metadata": {
        "id": "Bfn7LNUwVww2",
        "colab_type": "code",
        "colab": {}
      },
      "source": [
        "a = \"Hello, World!\"\n",
        "print(a.lower())"
      ],
      "execution_count": 0,
      "outputs": []
    },
    {
      "cell_type": "code",
      "metadata": {
        "id": "VRuvaRkuVww6",
        "colab_type": "code",
        "colab": {}
      },
      "source": [
        "a = \"Hello, World!\"\n",
        "print(a.upper())"
      ],
      "execution_count": 0,
      "outputs": []
    },
    {
      "cell_type": "code",
      "metadata": {
        "id": "ppggdvC4Vww-",
        "colab_type": "code",
        "colab": {}
      },
      "source": [
        "a = \"Hello, World!\"\n",
        "print(a.split(\",\"))"
      ],
      "execution_count": 0,
      "outputs": []
    },
    {
      "cell_type": "code",
      "metadata": {
        "scrolled": true,
        "id": "pUmnJTOvVwxE",
        "colab_type": "code",
        "colab": {}
      },
      "source": [
        "dir(a) # 해당 객체가 어떤 변수와 메소드(method)를 가지고 있는지 보여줌"
      ],
      "execution_count": 0,
      "outputs": []
    },
    {
      "cell_type": "code",
      "metadata": {
        "id": "kpx4IDBwVwxO",
        "colab_type": "code",
        "colab": {}
      },
      "source": [
        "# dir 함수를 사용하여 \"Hello, World!\" 를 \"Hellz, Wzrld!\"로 바꾼 결과를 출력하시오. (알파벳 'o' -> 'z' 로 대체)\n"
      ],
      "execution_count": 0,
      "outputs": []
    },
    {
      "cell_type": "code",
      "metadata": {
        "id": "L_6F3g2dVwxX",
        "colab_type": "code",
        "colab": {}
      },
      "source": [
        "a = \"Hello, Warld!\"\n",
        "a[8] = 'o' # I want to change 'a' to 'o' : impossible (String : immutable object)"
      ],
      "execution_count": 0,
      "outputs": []
    },
    {
      "cell_type": "code",
      "metadata": {
        "id": "xoR3ytuDVwxa",
        "colab_type": "code",
        "colab": {}
      },
      "source": [
        "\"Python is \" + \"fun\""
      ],
      "execution_count": 0,
      "outputs": []
    },
    {
      "cell_type": "code",
      "metadata": {
        "id": "MKdsR4ZSVwxg",
        "colab_type": "code",
        "colab": {}
      },
      "source": [
        "\"Python\" * 3"
      ],
      "execution_count": 0,
      "outputs": []
    },
    {
      "cell_type": "markdown",
      "metadata": {
        "id": "CP63A3IdVwxm",
        "colab_type": "text"
      },
      "source": [
        "## 3. List"
      ]
    },
    {
      "cell_type": "code",
      "metadata": {
        "id": "NlL34HznVwxn",
        "colab_type": "code",
        "colab": {}
      },
      "source": [
        "thislist = [1, 2, 3]\n",
        "print(thislist)\n",
        "print(type(thislist))\n",
        "print(\"index 0 :\" , thislist[0], \n",
        "      \"\\nindex 1 :\" , thislist[1], \n",
        "      \"\\nindex 2 :\" , thislist[2],\n",
        "      \"\\nlast value:\", thislist[-1])"
      ],
      "execution_count": 0,
      "outputs": []
    },
    {
      "cell_type": "code",
      "metadata": {
        "id": "0JPNTfarVwxq",
        "colab_type": "code",
        "colab": {}
      },
      "source": [
        "thislist = [\"apple\", \"banana\", \"cherry\"]\n",
        "thislist[2] = \"strawberry\"\n",
        "print(thislist)\n",
        "print(type(thislist))\n",
        "print(\"index 0 :\" , thislist[0], \n",
        "      \"\\nindex 1 :\" , thislist[1], \n",
        "      \"\\nindex 2 :\" , thislist[2])"
      ],
      "execution_count": 0,
      "outputs": []
    },
    {
      "cell_type": "code",
      "metadata": {
        "id": "7Yd3IMJ2Vwxu",
        "colab_type": "code",
        "colab": {}
      },
      "source": [
        "thislist = [1, \"banana\", [1]]\n",
        "print(thislist)\n",
        "print(type(thislist))\n",
        "print(\"index 0 :\" , thislist[0], \n",
        "      \"\\nindex 1 :\" , thislist[1], \n",
        "      \"\\nindex 2 :\" , thislist[2])"
      ],
      "execution_count": 0,
      "outputs": []
    },
    {
      "cell_type": "markdown",
      "metadata": {
        "id": "urCkLKlJVwxx",
        "colab_type": "text"
      },
      "source": [
        "### 3-1. List slicing"
      ]
    },
    {
      "cell_type": "code",
      "metadata": {
        "id": "tcsEnKgiVwxy",
        "colab_type": "code",
        "colab": {}
      },
      "source": [
        "# How to slice our list?\n",
        "thislist = [1, 2, 3, 4, 5 ,6, 7, 8, 9, 10]\n",
        "newlist = thislist[2:6]\n",
        "print(newlist)"
      ],
      "execution_count": 0,
      "outputs": []
    },
    {
      "cell_type": "code",
      "metadata": {
        "id": "iCeQMF-rVwx1",
        "colab_type": "code",
        "colab": {}
      },
      "source": [
        "newlist = thislist[:]\n",
        "print(newlist)"
      ],
      "execution_count": 0,
      "outputs": []
    },
    {
      "cell_type": "code",
      "metadata": {
        "id": "4hKbauNWVwx4",
        "colab_type": "code",
        "colab": {}
      },
      "source": [
        "anotherlist = [3, 5, 7, 9, 11 ,13, 15, 17, 19]\n",
        "\n",
        "# 4th ~ 8th elements ( new list will have 5 elements)\n",
        "# correct answer : [9, 11, 13, 15, 17]\n",
        "\n",
        "start = \n",
        "end = \n",
        "newlist = anotherlist[ start : end ]\n",
        "print(newlist)"
      ],
      "execution_count": 0,
      "outputs": []
    },
    {
      "cell_type": "code",
      "metadata": {
        "id": "dO9YEu35Vwx6",
        "colab_type": "code",
        "colab": {}
      },
      "source": [
        "thislist = [[1,2,3],[4,5,6],[7,8,9]]\n",
        "newlist = thislist[1]\n",
        "print (newlist)"
      ],
      "execution_count": 0,
      "outputs": []
    },
    {
      "cell_type": "code",
      "metadata": {
        "id": "sYmelmhZVwx_",
        "colab_type": "code",
        "colab": {}
      },
      "source": [
        "thislist = [[1,2,3],[4,5,6],[7,8,9]]\n",
        "newlist = thislist[0:2]\n",
        "print (newlist)"
      ],
      "execution_count": 0,
      "outputs": []
    },
    {
      "cell_type": "code",
      "metadata": {
        "id": "ZaJ-CELSVwyD",
        "colab_type": "code",
        "colab": {}
      },
      "source": [
        "# we want element 3\n",
        "newlist = \n",
        "print (newlist)"
      ],
      "execution_count": 0,
      "outputs": []
    },
    {
      "cell_type": "code",
      "metadata": {
        "id": "0D2aDFrxVwyH",
        "colab_type": "code",
        "colab": {}
      },
      "source": [
        "[1, 2, 3] + [4, 5, 6]"
      ],
      "execution_count": 0,
      "outputs": []
    },
    {
      "cell_type": "code",
      "metadata": {
        "id": "Axi9HVZ4VwyK",
        "colab_type": "code",
        "colab": {}
      },
      "source": [
        "[1, 2, 3] * 3"
      ],
      "execution_count": 0,
      "outputs": []
    },
    {
      "cell_type": "code",
      "metadata": {
        "id": "MiAla9apVwyR",
        "colab_type": "code",
        "colab": {}
      },
      "source": [
        "# 리스트 a = [1, 2, 3] 에 원소 4(b)를 추가하고 싶다면? (append 사용)\n",
        "a = [1,2,3]\n",
        "b = 4\n",
        "# Type your code here\n",
        "\n",
        "print (a)\n",
        "print (len(a))"
      ],
      "execution_count": 0,
      "outputs": []
    },
    {
      "cell_type": "code",
      "metadata": {
        "id": "bFm1Qa2KVwyY",
        "colab_type": "code",
        "colab": {}
      },
      "source": [
        "a = [1,1005,24,267,1,6,3,78,9,37,9,47]"
      ],
      "execution_count": 0,
      "outputs": []
    },
    {
      "cell_type": "code",
      "metadata": {
        "id": "61GX5amuVwyc",
        "colab_type": "code",
        "colab": {}
      },
      "source": [
        "a.sort()\n",
        "print (a)"
      ],
      "execution_count": 0,
      "outputs": []
    },
    {
      "cell_type": "markdown",
      "metadata": {
        "id": "h3rdnmtUVwyh",
        "colab_type": "text"
      },
      "source": [
        "## 4. tuple"
      ]
    },
    {
      "cell_type": "code",
      "metadata": {
        "id": "TquCZBzAVwyi",
        "colab_type": "code",
        "colab": {}
      },
      "source": [
        "thistuple = (\"apple\", \"banana\", \"cherry\")\n",
        "print(thistuple)\n",
        "print(type(thistuple))"
      ],
      "execution_count": 0,
      "outputs": []
    },
    {
      "cell_type": "code",
      "metadata": {
        "id": "TsKsOfHEVwyr",
        "colab_type": "code",
        "colab": {}
      },
      "source": [
        "thistuple = (\"apple\", \"banana\", \"cherry\")\n",
        "print(thistuple[1])"
      ],
      "execution_count": 0,
      "outputs": []
    },
    {
      "cell_type": "markdown",
      "metadata": {
        "id": "YByLhV_xVwyu",
        "colab_type": "text"
      },
      "source": [
        "tuple은 list와 동일하게 element에 접근할 수 있다. 그러나 element의 변경을 허용하지 않도록 의도할 때 list 대신 사용한다."
      ]
    },
    {
      "cell_type": "code",
      "metadata": {
        "id": "wxS9vvF0Vwyv",
        "colab_type": "code",
        "colab": {}
      },
      "source": [
        "thistuple = (\"apple\", \"banana\", \"cherry\")\n",
        "thistuple[1] = \"mango\"\n",
        "print(thistuple)"
      ],
      "execution_count": 0,
      "outputs": []
    },
    {
      "cell_type": "code",
      "metadata": {
        "id": "_tIiA91UVwyz",
        "colab_type": "code",
        "colab": {}
      },
      "source": [
        "thistuple = (\"apple\", \"banana\", \"cherry\")\n",
        "print(thistuple[0:2])"
      ],
      "execution_count": 0,
      "outputs": []
    },
    {
      "cell_type": "code",
      "metadata": {
        "id": "68mUIOw5Vwy4",
        "colab_type": "code",
        "colab": {}
      },
      "source": [
        "(\"apple\", \"banana\", \"cherry\") + (\"mango\",)"
      ],
      "execution_count": 0,
      "outputs": []
    },
    {
      "cell_type": "code",
      "metadata": {
        "id": "k6erNUMKVwy_",
        "colab_type": "code",
        "colab": {}
      },
      "source": [
        "(\"apple\", \"banana\", \"cherry\") * 2"
      ],
      "execution_count": 0,
      "outputs": []
    },
    {
      "cell_type": "markdown",
      "metadata": {
        "id": "f9ZbEHePVwzC",
        "colab_type": "text"
      },
      "source": [
        "## 5. dictionary"
      ]
    },
    {
      "cell_type": "markdown",
      "metadata": {
        "id": "nq8Yv5E7VwzE",
        "colab_type": "text"
      },
      "source": [
        "Dictionary는 key와 value를 한 쌍으로 가지는 element들의 집합이다."
      ]
    },
    {
      "cell_type": "code",
      "metadata": {
        "id": "YCte6Pb_VwzF",
        "colab_type": "code",
        "colab": {}
      },
      "source": [
        "# 직접 생성\n",
        "thisdict = {\n",
        "  \"name\": \"Damian\",\n",
        "  \"height\": 180,\n",
        "  \"weight\": 60\n",
        "}\n",
        "print(thisdict)\n",
        "print(type(thisdict))"
      ],
      "execution_count": 0,
      "outputs": []
    },
    {
      "cell_type": "code",
      "metadata": {
        "id": "J_B7jr69VwzK",
        "colab_type": "code",
        "colab": {}
      },
      "source": [
        "# dict() 사용\n",
        "thisdict = dict(\n",
        "    name = \"Damian\",\n",
        "    height = 180,\n",
        "    weight = 60\n",
        ")\n",
        "print(thisdict)\n",
        "print(type(thisdict))"
      ],
      "execution_count": 0,
      "outputs": []
    },
    {
      "cell_type": "code",
      "metadata": {
        "id": "AGfgMDulVwzR",
        "colab_type": "code",
        "colab": {}
      },
      "source": [
        "# from other types\n",
        "info = [('name','Damian'),('height',180),('weight',60)]\n",
        "thisdict = dict(info)\n",
        "print (thisdict)\n",
        "print(type(thisdict))"
      ],
      "execution_count": 0,
      "outputs": []
    },
    {
      "cell_type": "code",
      "metadata": {
        "id": "xRVLMycsVwzX",
        "colab_type": "code",
        "colab": {}
      },
      "source": [
        "x = thisdict[\"name\"]\n",
        "print('value :', x)"
      ],
      "execution_count": 0,
      "outputs": []
    },
    {
      "cell_type": "code",
      "metadata": {
        "id": "qT-Qf5_LVwze",
        "colab_type": "code",
        "colab": {}
      },
      "source": [
        "# 새로운 정보 추가\n",
        "thisdict[\"age\"] = 25\n",
        "print (thisdict)"
      ],
      "execution_count": 0,
      "outputs": []
    },
    {
      "cell_type": "code",
      "metadata": {
        "id": "QYf7UEJgVwzl",
        "colab_type": "code",
        "colab": {}
      },
      "source": [
        "# 본인의 정보(이름, 나이, 성별)로 이루어진 딕셔너리를 만들어보시오.\n"
      ],
      "execution_count": 0,
      "outputs": []
    },
    {
      "cell_type": "markdown",
      "metadata": {
        "id": "WUgo_dpqVwzq",
        "colab_type": "text"
      },
      "source": [
        "## 6. Set"
      ]
    },
    {
      "cell_type": "markdown",
      "metadata": {
        "id": "ZFFR7w6sVwzr",
        "colab_type": "text"
      },
      "source": [
        "중복을 허용하지 않고 순서가 없다. / 집합에 관련된 것들을 쉽게 처리하기 위해 만들어진 자료형"
      ]
    },
    {
      "cell_type": "code",
      "metadata": {
        "id": "jK_Gh8nfVwzs",
        "colab_type": "code",
        "colab": {}
      },
      "source": [
        "print ({1,1,2,3,3,4})"
      ],
      "execution_count": 0,
      "outputs": []
    },
    {
      "cell_type": "code",
      "metadata": {
        "id": "G9oEDwhqVwzv",
        "colab_type": "code",
        "colab": {}
      },
      "source": [
        "print ({\"a\",4,2,4,\"a\",\"b\",True})"
      ],
      "execution_count": 0,
      "outputs": []
    },
    {
      "cell_type": "code",
      "metadata": {
        "id": "1B6lf60oVwzw",
        "colab_type": "code",
        "colab": {}
      },
      "source": [
        "# from string\n",
        "set('apple')"
      ],
      "execution_count": 0,
      "outputs": []
    },
    {
      "cell_type": "code",
      "metadata": {
        "id": "2mg8npUSVwzy",
        "colab_type": "code",
        "colab": {}
      },
      "source": [
        "# from tuple\n",
        "set((1,1,2,3,3,4))"
      ],
      "execution_count": 0,
      "outputs": []
    },
    {
      "cell_type": "code",
      "metadata": {
        "id": "DcERBFBRVwz2",
        "colab_type": "code",
        "colab": {}
      },
      "source": [
        "# from list\n",
        "set([1,1,2,3,3,4])"
      ],
      "execution_count": 0,
      "outputs": []
    },
    {
      "cell_type": "code",
      "metadata": {
        "id": "HE_VOkZIVwz7",
        "colab_type": "code",
        "colab": {}
      },
      "source": [
        "# from dictionary\n",
        "set({'a':1, 'b':2, 'c':3})"
      ],
      "execution_count": 0,
      "outputs": []
    },
    {
      "cell_type": "code",
      "metadata": {
        "id": "RqX_wiqFVw0J",
        "colab_type": "code",
        "colab": {}
      },
      "source": [
        "s1 = set([1, 2, 3, 4, 5, 6])\n",
        "s2 = set([4, 5, 6, 7, 8, 9])\n",
        "\n",
        "print (s1.intersection(s2)) # s1 & s2\n",
        "print (s1.union(s2)) # s1 | s2\n",
        "print (s1.difference(s2)) # s1 - s2"
      ],
      "execution_count": 0,
      "outputs": []
    },
    {
      "cell_type": "markdown",
      "metadata": {
        "id": "q3-x26EqVw0N",
        "colab_type": "text"
      },
      "source": [
        "## 7. Boolean"
      ]
    },
    {
      "cell_type": "markdown",
      "metadata": {
        "id": "mhNrTmTsVw0O",
        "colab_type": "text"
      },
      "source": [
        "참(True)과 거짓(False)을 나타내는 자료형으로 무엇인가를 판단할 때 사용\n",
        "\n",
        "조건문의 결과값으로 사용"
      ]
    },
    {
      "cell_type": "code",
      "metadata": {
        "id": "znkgoWICVw0Q",
        "colab_type": "code",
        "colab": {}
      },
      "source": [
        "print (type(True))\n",
        "print (type(False))"
      ],
      "execution_count": 0,
      "outputs": []
    },
    {
      "cell_type": "code",
      "metadata": {
        "id": "PsAjamNFVw0T",
        "colab_type": "code",
        "colab": {}
      },
      "source": [
        ""
      ],
      "execution_count": 0,
      "outputs": []
    },
    {
      "cell_type": "markdown",
      "metadata": {
        "id": "gXgSPzUhVw0b",
        "colab_type": "text"
      },
      "source": [
        "# Control statement"
      ]
    },
    {
      "cell_type": "markdown",
      "metadata": {
        "id": "UzmwYuliVw0b",
        "colab_type": "text"
      },
      "source": [
        "비교 연산자 : 참/거짓을 판단하기 위해 사용되며 참일 경우 True, 거짓일 경우 False를 반환"
      ]
    },
    {
      "cell_type": "code",
      "metadata": {
        "id": "XmDJadHuVw0d",
        "colab_type": "code",
        "colab": {}
      },
      "source": [
        "print (True == 1)"
      ],
      "execution_count": 0,
      "outputs": []
    },
    {
      "cell_type": "code",
      "metadata": {
        "id": "6KRfsGP1Vw0g",
        "colab_type": "code",
        "colab": {}
      },
      "source": [
        "print (False == 0)"
      ],
      "execution_count": 0,
      "outputs": []
    },
    {
      "cell_type": "code",
      "metadata": {
        "id": "1g1lBeGvVw0m",
        "colab_type": "code",
        "colab": {}
      },
      "source": [
        "print (True == False)"
      ],
      "execution_count": 0,
      "outputs": []
    },
    {
      "cell_type": "code",
      "metadata": {
        "id": "4YGiDxZWVw0v",
        "colab_type": "code",
        "colab": {}
      },
      "source": [
        "print (2 > 0)"
      ],
      "execution_count": 0,
      "outputs": []
    },
    {
      "cell_type": "code",
      "metadata": {
        "id": "l16M_u_kVw04",
        "colab_type": "code",
        "colab": {}
      },
      "source": [
        "print (1 != 2)"
      ],
      "execution_count": 0,
      "outputs": []
    },
    {
      "cell_type": "markdown",
      "metadata": {
        "id": "vgLXjsaxVw0-",
        "colab_type": "text"
      },
      "source": [
        "논리 연산자 (and : 모두 참이여야 참 / or : 하나라도 참이면 참 / not : 반대)"
      ]
    },
    {
      "cell_type": "code",
      "metadata": {
        "id": "opONNCqCVw1A",
        "colab_type": "code",
        "colab": {}
      },
      "source": [
        "print (True and True)"
      ],
      "execution_count": 0,
      "outputs": []
    },
    {
      "cell_type": "code",
      "metadata": {
        "id": "miE6DexnVw1K",
        "colab_type": "code",
        "colab": {}
      },
      "source": [
        "print (1==1 and 2==2)"
      ],
      "execution_count": 0,
      "outputs": []
    },
    {
      "cell_type": "code",
      "metadata": {
        "id": "c6rX9IScVw1V",
        "colab_type": "code",
        "colab": {}
      },
      "source": [
        "print (True or False)"
      ],
      "execution_count": 0,
      "outputs": []
    },
    {
      "cell_type": "code",
      "metadata": {
        "id": "67G_f053Vw1a",
        "colab_type": "code",
        "colab": {}
      },
      "source": [
        "print (1==1 or 1==2)"
      ],
      "execution_count": 0,
      "outputs": []
    },
    {
      "cell_type": "code",
      "metadata": {
        "id": "_XFBEZQxVw1f",
        "colab_type": "code",
        "colab": {}
      },
      "source": [
        "print (not True)"
      ],
      "execution_count": 0,
      "outputs": []
    },
    {
      "cell_type": "markdown",
      "metadata": {
        "id": "PGGIOxoAVw1h",
        "colab_type": "text"
      },
      "source": [
        "## 1. Conditional statement \n",
        "조건에 따라 다른 Action을 실행"
      ]
    },
    {
      "cell_type": "markdown",
      "metadata": {
        "id": "cSBHu5tUVw1i",
        "colab_type": "text"
      },
      "source": [
        "#### if 문 : 조건 검사 후 True 이면 실행"
      ]
    },
    {
      "cell_type": "code",
      "metadata": {
        "id": "Ttlz4RQeVw1j",
        "colab_type": "code",
        "colab": {}
      },
      "source": [
        "a = 10\n",
        "b = 1\n",
        "\n",
        "if a > b:\n",
        "    print ('a is greater than b')\n",
        "\n",
        "if a < b:\n",
        "    print ('a is smaller than b')"
      ],
      "execution_count": 0,
      "outputs": []
    },
    {
      "cell_type": "code",
      "metadata": {
        "id": "rCw9h2g_Vw1l",
        "colab_type": "code",
        "colab": {}
      },
      "source": [
        "\"\"\" 다음 문장을 코드로 작성하시오.\n",
        "x = 10\n",
        "y = 20\n",
        "\n",
        "만약 y 가 x의 2배라면,\n",
        "    문자열 'YES' 를 출력하시오.\n",
        "\"\"\"\n",
        "# Type your code here\n",
        "\n",
        "\n"
      ],
      "execution_count": 0,
      "outputs": []
    },
    {
      "cell_type": "markdown",
      "metadata": {
        "id": "Ba5_5qoIVw1n",
        "colab_type": "text"
      },
      "source": [
        "#### elif 문 : if 문이 false 이고, 다른 추가적인 조건을 줄 때 사용"
      ]
    },
    {
      "cell_type": "code",
      "metadata": {
        "id": "YYdylsADVw1n",
        "colab_type": "code",
        "colab": {}
      },
      "source": [
        "a = 10\n",
        "b = 10\n",
        "\n",
        "if a > b:\n",
        "    print ('a is greater than b')\n",
        "elif a == b:\n",
        "    print ('a is equal to b')"
      ],
      "execution_count": 0,
      "outputs": []
    },
    {
      "cell_type": "markdown",
      "metadata": {
        "id": "XMSOhHnuVw1p",
        "colab_type": "text"
      },
      "source": [
        "#### else 문 : if 문과 elif 문 검사 후, 둘 다 false 일 때 실행"
      ]
    },
    {
      "cell_type": "code",
      "metadata": {
        "id": "1mnvvYw2Vw1p",
        "colab_type": "code",
        "colab": {}
      },
      "source": [
        "a = 1\n",
        "b = 10\n",
        "\n",
        "if a > b:\n",
        "    print ('a is greater than b')\n",
        "elif a == b:\n",
        "    print ('a is equal to b')\n",
        "else:\n",
        "    print ('a is smaller than b')"
      ],
      "execution_count": 0,
      "outputs": []
    },
    {
      "cell_type": "code",
      "metadata": {
        "id": "ccymwr-LVw1t",
        "colab_type": "code",
        "colab": {}
      },
      "source": [
        "\"\"\" 다음 문장을 코드로 작성하시오.\n",
        "x = 10\n",
        "y = 20\n",
        "\n",
        "만약 y 가 x의 3배라면,\n",
        "    문자열 'YES' 를 출력하시오.\n",
        "그렇지 않다면,\n",
        "    문자열 'NO' 를 출력하시오.\n",
        "\"\"\"\n",
        "# Type your code here\n",
        "\n",
        "\n"
      ],
      "execution_count": 0,
      "outputs": []
    },
    {
      "cell_type": "code",
      "metadata": {
        "id": "9B1sCfRGVw1v",
        "colab_type": "code",
        "colab": {}
      },
      "source": [
        "name = \"Damian\"\n",
        "age = 22\n",
        "\n",
        "if age < 10:\n",
        "    pass\n",
        "elif name == 'Damian' and age < 20:\n",
        "    print(\"Damian is a teenager\")\n",
        "elif age > 30:\n",
        "    print(\"Damian is an uncle\")\n",
        "else: \n",
        "    print(\"Damian is awesome!!!\")"
      ],
      "execution_count": 0,
      "outputs": []
    },
    {
      "cell_type": "code",
      "metadata": {
        "id": "BmYrHbvKVw13",
        "colab_type": "code",
        "colab": {}
      },
      "source": [
        "num = 10\n",
        "\n",
        "if num > 0:\n",
        "    if num % 2 == 0:\n",
        "        print ('num is even number')\n",
        "elif num == 0:\n",
        "    print ('num is zero')\n",
        "else:\n",
        "    print ('num is negative')"
      ],
      "execution_count": 0,
      "outputs": []
    },
    {
      "cell_type": "markdown",
      "metadata": {
        "id": "akrW5wRwVw15",
        "colab_type": "text"
      },
      "source": [
        "#### in 연산자 : 순환가능한 객체 내에 특정 element가 존재하는지 확인 "
      ]
    },
    {
      "cell_type": "markdown",
      "metadata": {
        "id": "N83Ohf8JVw15",
        "colab_type": "text"
      },
      "source": [
        "Iterable 의 의미는 member를 하나씩 차례로 반환 가능한 object 이다. \n",
        "    ex) list, string, tuple"
      ]
    },
    {
      "cell_type": "code",
      "metadata": {
        "id": "pQ_ze67TVw16",
        "colab_type": "code",
        "colab": {}
      },
      "source": [
        "\"apple\" in [\"apple\", \"banana\", \"cherry\"]"
      ],
      "execution_count": 0,
      "outputs": []
    },
    {
      "cell_type": "code",
      "metadata": {
        "id": "BYvVyFMwVw2A",
        "colab_type": "code",
        "colab": {}
      },
      "source": [
        "\"apple\" in [\"APPLE\", \"banana\", \"cherry\"]"
      ],
      "execution_count": 0,
      "outputs": []
    },
    {
      "cell_type": "markdown",
      "metadata": {
        "id": "Di8x7dVRVw2C",
        "colab_type": "text"
      },
      "source": [
        "#### 참고 : Set VS List (performance)"
      ]
    },
    {
      "cell_type": "code",
      "metadata": {
        "id": "SLLkOO-fVw2D",
        "colab_type": "code",
        "colab": {}
      },
      "source": [
        "import time \n",
        "l = list(range(1000000))\n",
        "s = set(l)\n",
        "\n",
        "start = time.time()\n",
        "if 99999 in l:\n",
        "    print ('list performance :', time.time() - start)\n",
        "\n",
        "start = time.time()\n",
        "if 99999 in s:\n",
        "    print ('set performance :', time.time() - start)"
      ],
      "execution_count": 0,
      "outputs": []
    },
    {
      "cell_type": "markdown",
      "metadata": {
        "id": "jaJYJQ_vVw2G",
        "colab_type": "text"
      },
      "source": [
        "#### is 연산자 : 같은 객체인지 확인  \n",
        "#### == : 값들이 같은지 확인"
      ]
    },
    {
      "cell_type": "code",
      "metadata": {
        "id": "RJCN_SkUVw2G",
        "colab_type": "code",
        "colab": {}
      },
      "source": [
        "# 모든 객체는 id를 가지고 있음\n",
        "a = 1\n",
        "b = \"apple\"\n",
        "\n",
        "print (id(a))\n",
        "print (id(b))"
      ],
      "execution_count": 0,
      "outputs": []
    },
    {
      "cell_type": "code",
      "metadata": {
        "id": "VzAZ-gtTVw2I",
        "colab_type": "code",
        "colab": {}
      },
      "source": [
        "x = [1,2,3]\n",
        "y = [1,2,3]\n",
        "\n",
        "print (x == y)\n",
        "print (x is y)\n",
        "print (\"x id :\", id(x))\n",
        "print (\"y id :\", id(y))"
      ],
      "execution_count": 0,
      "outputs": []
    },
    {
      "cell_type": "markdown",
      "metadata": {
        "id": "-ABYSOj3Vw2K",
        "colab_type": "text"
      },
      "source": [
        "## 2. Looping statement\n",
        "반복하여 Action을 실행"
      ]
    },
    {
      "cell_type": "markdown",
      "metadata": {
        "id": "dGEnjChcVw2K",
        "colab_type": "text"
      },
      "source": [
        "#### for 문 : 순환가능한 객체에 차례로 접근"
      ]
    },
    {
      "cell_type": "code",
      "metadata": {
        "id": "aUYCxmuSVw2K",
        "colab_type": "code",
        "colab": {}
      },
      "source": [
        "for i in 'cat':\n",
        "    print (i)"
      ],
      "execution_count": 0,
      "outputs": []
    },
    {
      "cell_type": "code",
      "metadata": {
        "id": "kgoD1GeFVw2N",
        "colab_type": "code",
        "colab": {}
      },
      "source": [
        "for i in [1,2,3]:\n",
        "    print (i)"
      ],
      "execution_count": 0,
      "outputs": []
    },
    {
      "cell_type": "code",
      "metadata": {
        "id": "Skaus5lpVw2Q",
        "colab_type": "code",
        "colab": {}
      },
      "source": [
        "for i in (10,20,30):\n",
        "    print (i)"
      ],
      "execution_count": 0,
      "outputs": []
    },
    {
      "cell_type": "code",
      "metadata": {
        "id": "7MnINf3AVw2T",
        "colab_type": "code",
        "colab": {}
      },
      "source": [
        "for i in {'name':'Damian', 'age':22}:\n",
        "    print (i)"
      ],
      "execution_count": 0,
      "outputs": []
    },
    {
      "cell_type": "code",
      "metadata": {
        "scrolled": false,
        "id": "IYjdhEUFVw2a",
        "colab_type": "code",
        "colab": {}
      },
      "source": [
        "for x in range(10): # range 함수 : 순차적으로 증가 또는 감소하는 숫자 생성 / 메모리 효율성\n",
        "    print(x)"
      ],
      "execution_count": 0,
      "outputs": []
    },
    {
      "cell_type": "code",
      "metadata": {
        "id": "DxGRy-RJVw2f",
        "colab_type": "code",
        "colab": {}
      },
      "source": [
        "list_from_range = list(range(10))\n",
        "print (list_from_range)"
      ],
      "execution_count": 0,
      "outputs": []
    },
    {
      "cell_type": "code",
      "metadata": {
        "scrolled": true,
        "id": "-6E0IthNVw2m",
        "colab_type": "code",
        "colab": {}
      },
      "source": [
        "# range 함수를 사용하여, 리스트 [20, 15, 10, 5, 0] 를 생성하시오.\n",
        "start = \n",
        "stop = \n",
        "step = \n",
        "\n",
        "answer = list(range(start, stop, step))\n",
        "print (answer)"
      ],
      "execution_count": 0,
      "outputs": []
    },
    {
      "cell_type": "code",
      "metadata": {
        "id": "r7StdKq1Vw2v",
        "colab_type": "code",
        "colab": {}
      },
      "source": [
        "import sys\n",
        "\n",
        "print ('memory for range(10) : ' , sys.getsizeof(range(10)))\n",
        "print ('memory for range(100) : ' , sys.getsizeof(range(100)))\n",
        "print ('memory for list(10) : ', sys.getsizeof(list(range(10))))\n",
        "print ('memory for list(100) : ', sys.getsizeof(list(range(100))))"
      ],
      "execution_count": 0,
      "outputs": []
    },
    {
      "cell_type": "markdown",
      "metadata": {
        "id": "8q3FfANIVw2y",
        "colab_type": "text"
      },
      "source": [
        "#### while 문 : 조건문이 참인 동안 실행"
      ]
    },
    {
      "cell_type": "code",
      "metadata": {
        "id": "t8MXLNGSVw2z",
        "colab_type": "code",
        "colab": {}
      },
      "source": [
        "count = 0\n",
        "while count < 5:\n",
        "    print(count)\n",
        "    count += 1"
      ],
      "execution_count": 0,
      "outputs": []
    },
    {
      "cell_type": "markdown",
      "metadata": {
        "id": "uZ8ulCBrVw21",
        "colab_type": "text"
      },
      "source": [
        "#### break 문 : 가장 내부의 반복문 빠져나감\n",
        "#### continue 문 : 다음 순환을 실행\n",
        "#### else : break 만나지 않고 정상적으로 반복문이 종료되었을때 실행"
      ]
    },
    {
      "cell_type": "code",
      "metadata": {
        "id": "DLamRHJVVw21",
        "colab_type": "code",
        "colab": {}
      },
      "source": [
        "for i in range(1,11):\n",
        "    if i > 5 :\n",
        "        break \n",
        "    print (i)\n",
        "else : \n",
        "    print (\"Exit without break\")"
      ],
      "execution_count": 0,
      "outputs": []
    },
    {
      "cell_type": "code",
      "metadata": {
        "id": "9niQ9EjEVw23",
        "colab_type": "code",
        "colab": {}
      },
      "source": [
        "for i in range(1,11):\n",
        "    if i % 2 == 0 :\n",
        "        continue \n",
        "    print (i)\n",
        "else : \n",
        "    print (\"Exit without break\")"
      ],
      "execution_count": 0,
      "outputs": []
    },
    {
      "cell_type": "code",
      "metadata": {
        "id": "Gcw1v7F3Vw24",
        "colab_type": "code",
        "colab": {}
      },
      "source": [
        "# 1부터 20까지의 리스트 [1,2,3,...,20]를 만들고 홀수만 출력하시오.\n",
        "a = list(range())\n",
        "\n",
        "for element in a:\n",
        "    if (): # 홀수인지 확인\n",
        "        print (element)"
      ],
      "execution_count": 0,
      "outputs": []
    },
    {
      "cell_type": "markdown",
      "metadata": {
        "id": "_5QcibDOVw26",
        "colab_type": "text"
      },
      "source": [
        "# Module\n",
        "함수, 변수, 클래스 들을 모아 놓은 파일 (.py)"
      ]
    },
    {
      "cell_type": "markdown",
      "metadata": {
        "id": "DwC0wfSDVw27",
        "colab_type": "text"
      },
      "source": [
        "## 1. sys module"
      ]
    },
    {
      "cell_type": "code",
      "metadata": {
        "id": "OThRDtLjVw28",
        "colab_type": "code",
        "colab": {}
      },
      "source": [
        "import sys\n",
        "sys.path # 파이썬 모듈들이 저장된 위치"
      ],
      "execution_count": 0,
      "outputs": []
    },
    {
      "cell_type": "markdown",
      "metadata": {
        "id": "p6x6vJwRVw2_",
        "colab_type": "text"
      },
      "source": [
        "sys.path.append(\"내가 만든 모듈이 있는 디렉토리\") : 디렉토리 추가"
      ]
    },
    {
      "cell_type": "code",
      "metadata": {
        "id": "jYZmhNCUVw3A",
        "colab_type": "code",
        "colab": {}
      },
      "source": [
        "# test_module.py 라는 모듈을 import 하여 뺄셈을 수행하시오.\n",
        "import test_module\n",
        "\n",
        "obj = test_module.Calculator(10,2)\n",
        "obj.sub()"
      ],
      "execution_count": 0,
      "outputs": []
    },
    {
      "cell_type": "markdown",
      "metadata": {
        "id": "Ze0JSwGPVw3J",
        "colab_type": "text"
      },
      "source": [
        "## 2. os module"
      ]
    },
    {
      "cell_type": "code",
      "metadata": {
        "id": "Mq9R6ONuVw3J",
        "colab_type": "code",
        "colab": {}
      },
      "source": [
        "import os\n",
        "os.getcwd() # 현재 디렉토리 확인"
      ],
      "execution_count": 0,
      "outputs": []
    },
    {
      "cell_type": "code",
      "metadata": {
        "id": "Iu8MFQiuVw3M",
        "colab_type": "code",
        "colab": {}
      },
      "source": [
        "os.environ['HOME'] # HOMEPATH"
      ],
      "execution_count": 0,
      "outputs": []
    },
    {
      "cell_type": "markdown",
      "metadata": {
        "id": "CDpAIWveVw3Q",
        "colab_type": "text"
      },
      "source": [
        "os.environ : 시스템 환경 변수 확인 (os.environ['HOME'])\n",
        " \n",
        "os.listdir(\"특정 디렉토리\") : 특정 디렉토리에 있는 모든 파일\n",
        "\n",
        "os.path.dirname(os.path.abspath(__file__)) : 해당 파일이 존재하는 디렉토리"
      ]
    },
    {
      "cell_type": "markdown",
      "metadata": {
        "id": "HsYmSFzzVw3R",
        "colab_type": "text"
      },
      "source": [
        "## 3. time module"
      ]
    },
    {
      "cell_type": "code",
      "metadata": {
        "id": "m2nfvo0bVw3S",
        "colab_type": "code",
        "colab": {}
      },
      "source": [
        "import time\n",
        "time.strftime('%c', time.localtime(time.time()))"
      ],
      "execution_count": 0,
      "outputs": []
    },
    {
      "cell_type": "code",
      "metadata": {
        "scrolled": true,
        "id": "8ke-BQCnVw3U",
        "colab_type": "code",
        "colab": {}
      },
      "source": [
        "help(time.strftime)"
      ],
      "execution_count": 0,
      "outputs": []
    },
    {
      "cell_type": "markdown",
      "metadata": {
        "id": "lenemJOBVw3W",
        "colab_type": "text"
      },
      "source": [
        "# Function\n",
        "함수(Function)은 호출됐을 때만 실행되는 code block을 말한다. 우리는 function에 적절한 input을 주어 결과로서 처리된 output을 얻을 수 있다.\n",
        "\n",
        "반복되는 일을 처리 / 가독성"
      ]
    },
    {
      "cell_type": "code",
      "metadata": {
        "id": "3j1LyE5AVw3X",
        "colab_type": "code",
        "colab": {}
      },
      "source": [
        "# Creating a Function\n",
        "def my_function():\n",
        "    print(\"Hello, this is my first function\")"
      ],
      "execution_count": 0,
      "outputs": []
    },
    {
      "cell_type": "code",
      "metadata": {
        "id": "LJaPNcHFVw3Y",
        "colab_type": "code",
        "colab": {}
      },
      "source": [
        "# Calling a Function\n",
        "my_function()"
      ],
      "execution_count": 0,
      "outputs": []
    },
    {
      "cell_type": "code",
      "metadata": {
        "id": "HAMCrNk_Vw3a",
        "colab_type": "code",
        "colab": {}
      },
      "source": [
        "# function은 input을 받아 output을 return한다.\n",
        "def my_function(x):\n",
        "    return x*2\n",
        "\n",
        "print(my_function(2))\n",
        "print(my_function(4))\n",
        "print(my_function(7))"
      ],
      "execution_count": 0,
      "outputs": []
    },
    {
      "cell_type": "code",
      "metadata": {
        "id": "uKKVdBzKVw3b",
        "colab_type": "code",
        "colab": {}
      },
      "source": [
        "# input x를 받아서 x+2를 출력하는 함수를 생성하시오.\n"
      ],
      "execution_count": 0,
      "outputs": []
    },
    {
      "cell_type": "code",
      "metadata": {
        "id": "bSMyN9UFVw3d",
        "colab_type": "code",
        "colab": {}
      },
      "source": [
        "# function을 통해 input에 따른 더 복잡한 형태의 처리도 가능하다.\n",
        "def my_function(x):\n",
        "    if x < 3:\n",
        "        output = x*2\n",
        "    elif x < 5:\n",
        "        output = x*3\n",
        "    else:\n",
        "        output = x*4\n",
        "    return output\n",
        "\n",
        "print(my_function(2))\n",
        "print(my_function(4))\n",
        "print(my_function(7))"
      ],
      "execution_count": 0,
      "outputs": []
    },
    {
      "cell_type": "code",
      "metadata": {
        "id": "gwFU_xQ9Vw3e",
        "colab_type": "code",
        "colab": {}
      },
      "source": [
        "# 서로 다른 3개의 정수를 받아 가장 큰 값을 출력하는 함수를 만드시오.\n"
      ],
      "execution_count": 0,
      "outputs": []
    },
    {
      "cell_type": "code",
      "metadata": {
        "id": "kKGefxepVw3l",
        "colab_type": "code",
        "colab": {}
      },
      "source": [
        ""
      ],
      "execution_count": 0,
      "outputs": []
    }
  ]
}