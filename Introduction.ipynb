{
  "nbformat": 4,
  "nbformat_minor": 0,
  "metadata": {
    "anaconda-cloud": {},
    "kernelspec": {
      "name": "python3",
      "display_name": "Python 3"
    },
    "language_info": {
      "codemirror_mode": {
        "name": "ipython",
        "version": 3
      },
      "file_extension": ".py",
      "mimetype": "text/x-python",
      "name": "python",
      "nbconvert_exporter": "python",
      "pygments_lexer": "ipython3",
      "version": "3.6.7"
    },
    "colab": {
      "name": "Introduction.ipynb",
      "provenance": []
    },
    "accelerator": "GPU"
  },
  "cells": [
    {
      "cell_type": "markdown",
      "metadata": {
        "id": "dt1Wx1l7VwtS",
        "colab_type": "text"
      },
      "source": [
        "# Hello World in Python"
      ]
    },
    {
      "cell_type": "code",
      "metadata": {
        "id": "N2T3cx9aVwtX",
        "colab_type": "code",
        "colab": {
          "base_uri": "https://localhost:8080/",
          "height": 34
        },
        "outputId": "9ccb3edf-ad67-476e-e4a4-c930e382dc9a"
      },
      "source": [
        "# 결과물을 화면에 출력\n",
        "print (\"Hello World!\")"
      ],
      "execution_count": 100,
      "outputs": [
        {
          "output_type": "stream",
          "text": [
            "Hello World!\n"
          ],
          "name": "stdout"
        }
      ]
    },
    {
      "cell_type": "code",
      "metadata": {
        "id": "zP2qGHGMVwtg",
        "colab_type": "code",
        "colab": {
          "base_uri": "https://localhost:8080/",
          "height": 34
        },
        "outputId": "a850349a-ed56-4838-a86f-f8a6ed4c4394"
      },
      "source": [
        "print (\"Hello\\tWorld\")"
      ],
      "execution_count": 101,
      "outputs": [
        {
          "output_type": "stream",
          "text": [
            "Hello\tWorld\n"
          ],
          "name": "stdout"
        }
      ]
    },
    {
      "cell_type": "code",
      "metadata": {
        "id": "R4z-hSgZkDoS",
        "colab_type": "code",
        "colab": {
          "base_uri": "https://localhost:8080/",
          "height": 34
        },
        "outputId": "29a6b2ea-f52b-41ed-d617-22c928bb7553"
      },
      "source": [
        "print ('IN\\tAE')"
      ],
      "execution_count": 102,
      "outputs": [
        {
          "output_type": "stream",
          "text": [
            "IN\tAE\n"
          ],
          "name": "stdout"
        }
      ]
    },
    {
      "cell_type": "code",
      "metadata": {
        "id": "ixK07hnoVwtm",
        "colab_type": "code",
        "colab": {
          "base_uri": "https://localhost:8080/",
          "height": 52
        },
        "outputId": "790c2ecd-58de-4233-88ab-8d51fee8f708"
      },
      "source": [
        "print (\"Hello\\nWorld!\")"
      ],
      "execution_count": 103,
      "outputs": [
        {
          "output_type": "stream",
          "text": [
            "Hello\n",
            "World!\n"
          ],
          "name": "stdout"
        }
      ]
    },
    {
      "cell_type": "code",
      "metadata": {
        "id": "om-fu0qtVwtt",
        "colab_type": "code",
        "colab": {
          "base_uri": "https://localhost:8080/",
          "height": 228
        },
        "outputId": "4801987d-399f-48f6-8779-80ecca7e5807"
      },
      "source": [
        "help(print) # help 함수 : 함수의 도움말"
      ],
      "execution_count": 104,
      "outputs": [
        {
          "output_type": "stream",
          "text": [
            "Help on built-in function print in module builtins:\n",
            "\n",
            "print(...)\n",
            "    print(value, ..., sep=' ', end='\\n', file=sys.stdout, flush=False)\n",
            "    \n",
            "    Prints the values to a stream, or to sys.stdout by default.\n",
            "    Optional keyword arguments:\n",
            "    file:  a file-like object (stream); defaults to the current sys.stdout.\n",
            "    sep:   string inserted between values, default a space.\n",
            "    end:   string appended after the last value, default a newline.\n",
            "    flush: whether to forcibly flush the stream.\n",
            "\n"
          ],
          "name": "stdout"
        }
      ]
    },
    {
      "cell_type": "code",
      "metadata": {
        "id": "jMcuxt5LVwtw",
        "colab_type": "code",
        "colab": {
          "base_uri": "https://localhost:8080/",
          "height": 34
        },
        "outputId": "f35e1554-c415-48cd-c9cb-bad5f9f58bbc"
      },
      "source": [
        "print ('18','12','01')"
      ],
      "execution_count": 105,
      "outputs": [
        {
          "output_type": "stream",
          "text": [
            "18 12 01\n"
          ],
          "name": "stdout"
        }
      ]
    },
    {
      "cell_type": "code",
      "metadata": {
        "id": "5EfKuUWuVwt1",
        "colab_type": "code",
        "colab": {
          "base_uri": "https://localhost:8080/",
          "height": 52
        },
        "outputId": "55d88a2b-0af8-42d0-ae0b-3219b44719f8"
      },
      "source": [
        "print ('18','12','01', end='\\n')\n",
        "print ('a')"
      ],
      "execution_count": 106,
      "outputs": [
        {
          "output_type": "stream",
          "text": [
            "18 12 01\n",
            "a\n"
          ],
          "name": "stdout"
        }
      ]
    },
    {
      "cell_type": "code",
      "metadata": {
        "id": "K5Ov-65Okzqc",
        "colab_type": "code",
        "colab": {
          "base_uri": "https://localhost:8080/",
          "height": 34
        },
        "outputId": "eff15d3a-4105-4b49-833b-0d0ce35e4e90"
      },
      "source": [
        "print('1','2','3', sep='&')"
      ],
      "execution_count": 107,
      "outputs": [
        {
          "output_type": "stream",
          "text": [
            "1&2&3\n"
          ],
          "name": "stdout"
        }
      ]
    },
    {
      "cell_type": "code",
      "metadata": {
        "id": "ll1etqFolARr",
        "colab_type": "code",
        "colab": {
          "base_uri": "https://localhost:8080/",
          "height": 34
        },
        "outputId": "08492445-65c1-4456-f2ea-bbccfd57dc6c"
      },
      "source": [
        "print('1','2', end = 'g' '3')"
      ],
      "execution_count": 108,
      "outputs": [
        {
          "output_type": "stream",
          "text": [
            "1 2g3"
          ],
          "name": "stdout"
        }
      ]
    },
    {
      "cell_type": "code",
      "metadata": {
        "id": "P_Wpnd-xlJGU",
        "colab_type": "code",
        "colab": {
          "base_uri": "https://localhost:8080/",
          "height": 34
        },
        "outputId": "d4ed0899-50f8-46c0-d2d5-7f51e300effa"
      },
      "source": [
        "print(flush = True) #얘는 뭐냐"
      ],
      "execution_count": 109,
      "outputs": [
        {
          "output_type": "stream",
          "text": [
            "\n"
          ],
          "name": "stdout"
        }
      ]
    },
    {
      "cell_type": "markdown",
      "metadata": {
        "id": "MMyseuEaVwt-",
        "colab_type": "text"
      },
      "source": [
        "# Python as calculator"
      ]
    },
    {
      "cell_type": "code",
      "metadata": {
        "id": "WhkamvusVwuA",
        "colab_type": "code",
        "colab": {
          "base_uri": "https://localhost:8080/",
          "height": 34
        },
        "outputId": "a051b8f4-5963-4c5f-f52c-29e8197c6d71"
      },
      "source": [
        "# 덧셈\n",
        "1 + 1"
      ],
      "execution_count": 110,
      "outputs": [
        {
          "output_type": "execute_result",
          "data": {
            "text/plain": [
              "2"
            ]
          },
          "metadata": {
            "tags": []
          },
          "execution_count": 110
        }
      ]
    },
    {
      "cell_type": "code",
      "metadata": {
        "id": "ViOYTfo3VwuD",
        "colab_type": "code",
        "colab": {
          "base_uri": "https://localhost:8080/",
          "height": 34
        },
        "outputId": "a0c49dd6-c549-4237-9e2a-cd861dea7a20"
      },
      "source": [
        "# 뺄셈\n",
        "130 - 2.0  "
      ],
      "execution_count": 111,
      "outputs": [
        {
          "output_type": "execute_result",
          "data": {
            "text/plain": [
              "128.0"
            ]
          },
          "metadata": {
            "tags": []
          },
          "execution_count": 111
        }
      ]
    },
    {
      "cell_type": "code",
      "metadata": {
        "id": "ObV3Ofn7VwuH",
        "colab_type": "code",
        "colab": {
          "base_uri": "https://localhost:8080/",
          "height": 34
        },
        "outputId": "d756f826-0e35-41da-a154-90cb0169fbf0"
      },
      "source": [
        "# 나눗셈\n",
        "131 / 2  "
      ],
      "execution_count": 112,
      "outputs": [
        {
          "output_type": "execute_result",
          "data": {
            "text/plain": [
              "65.5"
            ]
          },
          "metadata": {
            "tags": []
          },
          "execution_count": 112
        }
      ]
    },
    {
      "cell_type": "code",
      "metadata": {
        "id": "wKEmDYIwVwuM",
        "colab_type": "code",
        "colab": {
          "base_uri": "https://localhost:8080/",
          "height": 34
        },
        "outputId": "9e5b47e2-9389-4569-b0bd-17c430a7576c"
      },
      "source": [
        "# 곱셈\n",
        "2 * 3"
      ],
      "execution_count": 113,
      "outputs": [
        {
          "output_type": "execute_result",
          "data": {
            "text/plain": [
              "6"
            ]
          },
          "metadata": {
            "tags": []
          },
          "execution_count": 113
        }
      ]
    },
    {
      "cell_type": "code",
      "metadata": {
        "id": "-tYMC1b_VwuP",
        "colab_type": "code",
        "colab": {
          "base_uri": "https://localhost:8080/",
          "height": 34
        },
        "outputId": "5fc3c634-f26d-4358-abb9-8bf6a2762c12"
      },
      "source": [
        "# 거듭제곱(pow function)\n",
        "2 ** 3"
      ],
      "execution_count": 114,
      "outputs": [
        {
          "output_type": "execute_result",
          "data": {
            "text/plain": [
              "8"
            ]
          },
          "metadata": {
            "tags": []
          },
          "execution_count": 114
        }
      ]
    },
    {
      "cell_type": "code",
      "metadata": {
        "id": "oeYt10mOVwuT",
        "colab_type": "code",
        "colab": {
          "base_uri": "https://localhost:8080/",
          "height": 34
        },
        "outputId": "a3e64b8d-5abe-4cb2-d331-78fe227126ff"
      },
      "source": [
        "# 나머지\n",
        "10 % 3"
      ],
      "execution_count": 115,
      "outputs": [
        {
          "output_type": "execute_result",
          "data": {
            "text/plain": [
              "1"
            ]
          },
          "metadata": {
            "tags": []
          },
          "execution_count": 115
        }
      ]
    },
    {
      "cell_type": "code",
      "metadata": {
        "id": "IMMsXGG6VwuW",
        "colab_type": "code",
        "colab": {
          "base_uri": "https://localhost:8080/",
          "height": 34
        },
        "outputId": "1936a903-bf38-4749-8135-cebaace0608f"
      },
      "source": [
        "# 몫\n",
        "10 // 3"
      ],
      "execution_count": 116,
      "outputs": [
        {
          "output_type": "execute_result",
          "data": {
            "text/plain": [
              "3"
            ]
          },
          "metadata": {
            "tags": []
          },
          "execution_count": 116
        }
      ]
    },
    {
      "cell_type": "code",
      "metadata": {
        "id": "0KIxDmM9Vwua",
        "colab_type": "code",
        "colab": {
          "base_uri": "https://localhost:8080/",
          "height": 34
        },
        "outputId": "6a6dd07f-dd91-495e-babd-da7f7776a978"
      },
      "source": [
        "# 반올림\n",
        "round(131 / 2)"
      ],
      "execution_count": 117,
      "outputs": [
        {
          "output_type": "execute_result",
          "data": {
            "text/plain": [
              "66"
            ]
          },
          "metadata": {
            "tags": []
          },
          "execution_count": 117
        }
      ]
    },
    {
      "cell_type": "code",
      "metadata": {
        "id": "TNbSsUgSVwue",
        "colab_type": "code",
        "colab": {
          "base_uri": "https://localhost:8080/",
          "height": 34
        },
        "outputId": "2eb8a4a7-8e24-459d-fea6-f6ae5f42404b"
      },
      "source": [
        "# 12345 와 67890 을 곱한 결과를 화면에 출력하시오\n",
        "12345 * 67890"
      ],
      "execution_count": 118,
      "outputs": [
        {
          "output_type": "execute_result",
          "data": {
            "text/plain": [
              "838102050"
            ]
          },
          "metadata": {
            "tags": []
          },
          "execution_count": 118
        }
      ]
    },
    {
      "cell_type": "code",
      "metadata": {
        "id": "rQ7vYiqTVwui",
        "colab_type": "code",
        "colab": {}
      },
      "source": [
        "# 모듈(module) : 함수나 변수 또는 클래스 들을 모아 놓은 파일\n",
        "import math"
      ],
      "execution_count": 0,
      "outputs": []
    },
    {
      "cell_type": "code",
      "metadata": {
        "id": "7elQ5KQZVwul",
        "colab_type": "code",
        "colab": {
          "base_uri": "https://localhost:8080/",
          "height": 34
        },
        "outputId": "06bca0f3-e171-46f7-e683-00bfaf8db65d"
      },
      "source": [
        "# 올림\n",
        "math.ceil(131 / 2)"
      ],
      "execution_count": 120,
      "outputs": [
        {
          "output_type": "execute_result",
          "data": {
            "text/plain": [
              "66"
            ]
          },
          "metadata": {
            "tags": []
          },
          "execution_count": 120
        }
      ]
    },
    {
      "cell_type": "code",
      "metadata": {
        "id": "GQnPQRa_Vwuo",
        "colab_type": "code",
        "colab": {
          "base_uri": "https://localhost:8080/",
          "height": 34
        },
        "outputId": "d27a8c65-bb01-4025-cc13-3e7ad687343f"
      },
      "source": [
        "# 버림\n",
        "math.floor(131 / 2)"
      ],
      "execution_count": 121,
      "outputs": [
        {
          "output_type": "execute_result",
          "data": {
            "text/plain": [
              "65"
            ]
          },
          "metadata": {
            "tags": []
          },
          "execution_count": 121
        }
      ]
    },
    {
      "cell_type": "markdown",
      "metadata": {
        "id": "mPcPYsyOVwus",
        "colab_type": "text"
      },
      "source": [
        "# Python indentations\n",
        "파이썬은 코드 블록을 나타내기 위해 들여쓰기를 사용함(C/C++, Java 등의 타 언어는 { } 사용)\n",
        "\n",
        "코드 블록 : 특정한 동작을 위해서 코드가 모여 있는 상태"
      ]
    },
    {
      "cell_type": "code",
      "metadata": {
        "id": "sSeT6FDpVwuu",
        "colab_type": "code",
        "colab": {
          "base_uri": "https://localhost:8080/",
          "height": 52
        },
        "outputId": "9984905c-5fb5-4bc4-8e06-c8958ca0d92d"
      },
      "source": [
        "if 5 > 2:\n",
        "    print(\"Hello, World\")\n",
        "    print(\"Five is bigger than Two.\")"
      ],
      "execution_count": 122,
      "outputs": [
        {
          "output_type": "stream",
          "text": [
            "Hello, World\n",
            "Five is bigger than Two.\n"
          ],
          "name": "stdout"
        }
      ]
    },
    {
      "cell_type": "code",
      "metadata": {
        "id": "_aEFhpHNVwu1",
        "colab_type": "code",
        "colab": {
          "base_uri": "https://localhost:8080/",
          "height": 52
        },
        "outputId": "bd663e68-e5f5-49f9-d7c4-4cb9262f3b96"
      },
      "source": [
        "if 5 > 2:\n",
        "    print(\"Hello, World\")\n",
        "print(\"Five is bigger than Two.\") #이것도 둘 다 출력되겠지"
      ],
      "execution_count": 123,
      "outputs": [
        {
          "output_type": "stream",
          "text": [
            "Hello, World\n",
            "Five is bigger than Two.\n"
          ],
          "name": "stdout"
        }
      ]
    },
    {
      "cell_type": "code",
      "metadata": {
        "id": "Ab6bYKhqVwu-",
        "colab_type": "code",
        "colab": {
          "base_uri": "https://localhost:8080/",
          "height": 34
        },
        "outputId": "5e05fa4a-5f5f-43b8-8ac3-c2db3a2774e4"
      },
      "source": [
        "if 5 < 2:\n",
        "    print(\"Hello, World\")\n",
        "print(\"Five is bigger than Two.\") #아랫줄만 출력될듯"
      ],
      "execution_count": 124,
      "outputs": [
        {
          "output_type": "stream",
          "text": [
            "Five is bigger than Two.\n"
          ],
          "name": "stdout"
        }
      ]
    },
    {
      "cell_type": "code",
      "metadata": {
        "scrolled": true,
        "id": "sQFIibFAVwvH",
        "colab_type": "code",
        "colab": {
          "base_uri": "https://localhost:8080/",
          "height": 134
        },
        "outputId": "ce0cc8a3-9a3e-4991-9c93-faeae6d9e503"
      },
      "source": [
        "if 5 > 2:\n",
        "print(\"Hello, World\")\n",
        "print(\"Five is bigger than Two.\") #에러날것같은데"
      ],
      "execution_count": 125,
      "outputs": [
        {
          "output_type": "error",
          "ename": "IndentationError",
          "evalue": "ignored",
          "traceback": [
            "\u001b[0;36m  File \u001b[0;32m\"<ipython-input-125-c9e93e86ce53>\"\u001b[0;36m, line \u001b[0;32m2\u001b[0m\n\u001b[0;31m    print(\"Hello, World\")\u001b[0m\n\u001b[0m        ^\u001b[0m\n\u001b[0;31mIndentationError\u001b[0m\u001b[0;31m:\u001b[0m expected an indented block\n"
          ]
        }
      ]
    },
    {
      "cell_type": "code",
      "metadata": {
        "id": "xsM06MbNVwvP",
        "colab_type": "code",
        "colab": {}
      },
      "source": [
        " #if에 해당하는 코드블록이 없으니까 에러남"
      ],
      "execution_count": 0,
      "outputs": []
    },
    {
      "cell_type": "markdown",
      "metadata": {
        "id": "NIQCVN6xVwvT",
        "colab_type": "text"
      },
      "source": [
        "# Python variable types\n",
        "\n",
        "지금부터 다양한 Python의 변수 type들을 배워보자.\n",
        "\n",
        "기억할 점은, Python의 모든 변수(variable)은 클래스로 정의된 객체라는 점이다. "
      ]
    },
    {
      "cell_type": "markdown",
      "metadata": {
        "id": "YS4-udtKVwvV",
        "colab_type": "text"
      },
      "source": [
        "![title](https://github.com/hukim1112/DLCV_UOS/blob/master/lecture1/cookie.png?raw=1)"
      ]
    },
    {
      "cell_type": "markdown",
      "metadata": {
        "id": "NVGHQ8lTVwvW",
        "colab_type": "text"
      },
      "source": [
        "과자틀 → 클래스 (class)\n",
        "\n",
        "과자틀에 의해서 만들어진 과자들 → 객체 (object)"
      ]
    },
    {
      "cell_type": "code",
      "metadata": {
        "id": "v5JH4SX1VwvX",
        "colab_type": "code",
        "colab": {}
      },
      "source": [
        "class cookie: #클래스 선언\n",
        "    \n",
        "    shape = \"circle\" # attribute \n",
        "    \n",
        "    def __init__(self, topping): \n",
        "        self.a = topping       #a가 topping이었을 때는 헷갈렸는데 어쨌든..\n",
        "                               #윗줄의 topping은 입력단이라고 생각하면 될것같고\n",
        "                               #self.a는 뭐지?? 변수 찍어내는 느낌인건가..\n",
        "     \n",
        "    def print_info(self): # method\n",
        "        print ('This is ' + self.a + ' cookie')"
      ],
      "execution_count": 0,
      "outputs": []
    },
    {
      "cell_type": "code",
      "metadata": {
        "id": "JkE9IAAsVwvb",
        "colab_type": "code",
        "colab": {
          "base_uri": "https://localhost:8080/",
          "height": 52
        },
        "outputId": "83695deb-4895-40f0-c3f4-8b93adabdd3d"
      },
      "source": [
        "c1=cookie('chocolate') #\n",
        "print (c1.shape) #shape가 함수인가? 함수가 아니라면 어떻게 이런게 가능한거지?\n",
        "c1.print_info()"
      ],
      "execution_count": 133,
      "outputs": [
        {
          "output_type": "stream",
          "text": [
            "circle\n",
            "This is chocolate cookie\n"
          ],
          "name": "stdout"
        }
      ]
    },
    {
      "cell_type": "code",
      "metadata": {
        "scrolled": true,
        "id": "E13LkFtMVwvh",
        "colab_type": "code",
        "colab": {
          "base_uri": "https://localhost:8080/",
          "height": 52
        },
        "outputId": "45bc9c47-bd0a-4668-87e1-a0be8e9f2828"
      },
      "source": [
        "c2=cookie('vanilla')\n",
        "print (c2.shape)\n",
        "c2.print_info()"
      ],
      "execution_count": 134,
      "outputs": [
        {
          "output_type": "stream",
          "text": [
            "circle\n",
            "This is vanilla cookie\n"
          ],
          "name": "stdout"
        }
      ]
    },
    {
      "cell_type": "code",
      "metadata": {
        "id": "F5bxJSZHVwvm",
        "colab_type": "code",
        "colab": {
          "base_uri": "https://localhost:8080/",
          "height": 52
        },
        "outputId": "6b36a106-8b30-473c-a0b4-40a0ed3b0bb9"
      },
      "source": [
        "c3=cookie('melon')\n",
        "print (c3.shape)\n",
        "c3.print_info()"
      ],
      "execution_count": 135,
      "outputs": [
        {
          "output_type": "stream",
          "text": [
            "circle\n",
            "This is melon cookie\n"
          ],
          "name": "stdout"
        }
      ]
    },
    {
      "cell_type": "code",
      "metadata": {
        "id": "ZfmqE4ZgVwv5",
        "colab_type": "code",
        "colab": {
          "base_uri": "https://localhost:8080/",
          "height": 70
        },
        "outputId": "9243e6aa-72cd-4b3d-860f-95bb71cc2e19"
      },
      "source": [
        "x = 5\n",
        "y = 2.5\n",
        "z = \"John\"\n",
        "print(x)\n",
        "print(x+y)\n",
        "print(z)"
      ],
      "execution_count": 136,
      "outputs": [
        {
          "output_type": "stream",
          "text": [
            "5\n",
            "7.5\n",
            "John\n"
          ],
          "name": "stdout"
        }
      ]
    },
    {
      "cell_type": "code",
      "metadata": {
        "id": "faz1KGJfVwwC",
        "colab_type": "code",
        "colab": {
          "base_uri": "https://localhost:8080/",
          "height": 52
        },
        "outputId": "42364e78-36c5-4849-e0d9-9f45f64d9a7e"
      },
      "source": [
        "x = 5\n",
        "print (x)\n",
        "x = \"five\"\n",
        "print (x) # integer 클래스 객체에다가 string 클래스 객체 할당 가능 이말인가"
      ],
      "execution_count": 142,
      "outputs": [
        {
          "output_type": "stream",
          "text": [
            "5\n",
            "five\n"
          ],
          "name": "stdout"
        }
      ]
    },
    {
      "cell_type": "code",
      "metadata": {
        "id": "bYqcQicYVwwG",
        "colab_type": "code",
        "colab": {
          "base_uri": "https://localhost:8080/",
          "height": 70
        },
        "outputId": "c6cb577b-778c-4f07-e891-3109ccd11859"
      },
      "source": [
        "print ('x is', x)\n",
        "print ('y is', y)\n",
        "print ('His name is', z)"
      ],
      "execution_count": 139,
      "outputs": [
        {
          "output_type": "stream",
          "text": [
            "x is five\n",
            "y is 2.5\n",
            "His name is John\n"
          ],
          "name": "stdout"
        }
      ]
    },
    {
      "cell_type": "markdown",
      "metadata": {
        "id": "YHOacmveVwwJ",
        "colab_type": "text"
      },
      "source": [
        "## 1. Python Numbers\n",
        "\n",
        "Python에는 세 가지 수치 타입이 있다.\n",
        "\n",
        "- 정수형(integer)인 int.\n",
        "- 소수형(floating number)인 float\n",
        "- 복소수형(complex number)인 complex"
      ]
    },
    {
      "cell_type": "code",
      "metadata": {
        "id": "CkiaUghyVwwK",
        "colab_type": "code",
        "colab": {}
      },
      "source": [
        "x = 1 \n",
        "y = 2.8 \n",
        "z = 2 + 1j #i는 허수라고 안치는듯 그리고 j만 쓰면 변수로 취급함"
      ],
      "execution_count": 0,
      "outputs": []
    },
    {
      "cell_type": "code",
      "metadata": {
        "id": "Nj2dlg6cVwwO",
        "colab_type": "code",
        "colab": {
          "base_uri": "https://localhost:8080/",
          "height": 70
        },
        "outputId": "16f576ce-6ac0-4d1d-ce0f-6d903b97d276"
      },
      "source": [
        "print(type(x)) # int 클래스의 객체\n",
        "print(type(y)) # float 클래스의 객체\n",
        "print(type(z)) # complex 클래스의 객체"
      ],
      "execution_count": 143,
      "outputs": [
        {
          "output_type": "stream",
          "text": [
            "<class 'str'>\n",
            "<class 'float'>\n",
            "<class 'complex'>\n"
          ],
          "name": "stdout"
        }
      ]
    },
    {
      "cell_type": "markdown",
      "metadata": {
        "id": "X3u8cEJnVwwU",
        "colab_type": "text"
      },
      "source": [
        "## 2. String"
      ]
    },
    {
      "cell_type": "code",
      "metadata": {
        "id": "9QbOyIEZVwwW",
        "colab_type": "code",
        "colab": {}
      },
      "source": [
        "a = \"Hello, World!\""
      ],
      "execution_count": 0,
      "outputs": []
    },
    {
      "cell_type": "code",
      "metadata": {
        "id": "P3sOETM7Vwwc",
        "colab_type": "code",
        "colab": {
          "base_uri": "https://localhost:8080/",
          "height": 52
        },
        "outputId": "f018dd0b-cff7-4e03-d032-6a22d5c0e69c"
      },
      "source": [
        "print(type(a)) # string 클래스의 객체\n",
        "print(a[0], a[1], a[2], a[3], a[4], a[-1], a[12]) # indexing , 음수로 하면 뒤에 부터"
      ],
      "execution_count": 145,
      "outputs": [
        {
          "output_type": "stream",
          "text": [
            "<class 'str'>\n",
            "H e l l o ! !\n"
          ],
          "name": "stdout"
        }
      ]
    },
    {
      "cell_type": "code",
      "metadata": {
        "id": "HXxMkRSAVwwh",
        "colab_type": "code",
        "colab": {
          "base_uri": "https://localhost:8080/",
          "height": 34
        },
        "outputId": "f5333828-b592-4c62-fbc5-f4acfb78d085"
      },
      "source": [
        "a.index('W') #a[i],i = integer 에서 i에 해당하는 숫자 말해주는듯 여기서 없는 \n",
        "             #문자쓰면 에러뜸"
      ],
      "execution_count": 147,
      "outputs": [
        {
          "output_type": "execute_result",
          "data": {
            "text/plain": [
              "7"
            ]
          },
          "metadata": {
            "tags": []
          },
          "execution_count": 147
        }
      ]
    },
    {
      "cell_type": "code",
      "metadata": {
        "id": "-hvzMK7xVwwn",
        "colab_type": "code",
        "colab": {
          "base_uri": "https://localhost:8080/",
          "height": 34
        },
        "outputId": "f0330d25-bab0-4cf2-c18b-cc7740dcef21"
      },
      "source": [
        "a.find('W') #없는 문자 쓰면 -1이라고 뜸, 있는 문자 쓰면 자리도 찾아줌"
      ],
      "execution_count": 148,
      "outputs": [
        {
          "output_type": "execute_result",
          "data": {
            "text/plain": [
              "7"
            ]
          },
          "metadata": {
            "tags": []
          },
          "execution_count": 148
        }
      ]
    },
    {
      "cell_type": "code",
      "metadata": {
        "id": "aJ1p9__mVwww",
        "colab_type": "code",
        "colab": {
          "base_uri": "https://localhost:8080/",
          "height": 34
        },
        "outputId": "f5460702-15f1-425b-83d2-b0ca62c2ddcd"
      },
      "source": [
        "len(a) # str a의 길이를 알려주는듯"
      ],
      "execution_count": 149,
      "outputs": [
        {
          "output_type": "execute_result",
          "data": {
            "text/plain": [
              "13"
            ]
          },
          "metadata": {
            "tags": []
          },
          "execution_count": 149
        }
      ]
    },
    {
      "cell_type": "code",
      "metadata": {
        "id": "Bfn7LNUwVww2",
        "colab_type": "code",
        "colab": {
          "base_uri": "https://localhost:8080/",
          "height": 34
        },
        "outputId": "ed3a0a8b-6bfa-4af7-8607-650399296a93"
      },
      "source": [
        "a = \"Hello, World!\"\n",
        "print(a.lower()) #lower은 대문자->소문자"
      ],
      "execution_count": 150,
      "outputs": [
        {
          "output_type": "stream",
          "text": [
            "hello, world!\n"
          ],
          "name": "stdout"
        }
      ]
    },
    {
      "cell_type": "code",
      "metadata": {
        "id": "VRuvaRkuVww6",
        "colab_type": "code",
        "colab": {
          "base_uri": "https://localhost:8080/",
          "height": 34
        },
        "outputId": "9955f4fb-ffd8-47df-8132-d6fd10ff07bf"
      },
      "source": [
        "a = \"Hello, World!\"\n",
        "print(a.upper()) #upper는 소문자->대문자"
      ],
      "execution_count": 151,
      "outputs": [
        {
          "output_type": "stream",
          "text": [
            "HELLO, WORLD!\n"
          ],
          "name": "stdout"
        }
      ]
    },
    {
      "cell_type": "code",
      "metadata": {
        "id": "ppggdvC4Vww-",
        "colab_type": "code",
        "colab": {
          "base_uri": "https://localhost:8080/",
          "height": 34
        },
        "outputId": "48141080-f4f1-422e-a341-173f3cd40215"
      },
      "source": [
        "a = \"Hello, World!\"\n",
        "print(a.split(\"W\")) #split 기준으로 왼쪽 오른쪽 따로 뭐시기 하는건데 print안하고 a.split만하면 뭐가 되는 거냐 어디다 저장되는건가? 이것도 무슨 클래스 객체 뭐 그런건가?"
      ],
      "execution_count": 152,
      "outputs": [
        {
          "output_type": "stream",
          "text": [
            "['Hello, ', 'orld!']\n"
          ],
          "name": "stdout"
        }
      ]
    },
    {
      "cell_type": "code",
      "metadata": {
        "scrolled": true,
        "id": "pUmnJTOvVwxE",
        "colab_type": "code",
        "colab": {
          "base_uri": "https://localhost:8080/",
          "height": 1000
        },
        "outputId": "d7a64dee-10e2-462f-9f7b-0c5551672368"
      },
      "source": [
        "dir(a) # 해당 객체가 어떤 변수와 메소드(method)를 가지고 있는지 보여줌"
      ],
      "execution_count": 153,
      "outputs": [
        {
          "output_type": "execute_result",
          "data": {
            "text/plain": [
              "['__add__',\n",
              " '__class__',\n",
              " '__contains__',\n",
              " '__delattr__',\n",
              " '__dir__',\n",
              " '__doc__',\n",
              " '__eq__',\n",
              " '__format__',\n",
              " '__ge__',\n",
              " '__getattribute__',\n",
              " '__getitem__',\n",
              " '__getnewargs__',\n",
              " '__gt__',\n",
              " '__hash__',\n",
              " '__init__',\n",
              " '__init_subclass__',\n",
              " '__iter__',\n",
              " '__le__',\n",
              " '__len__',\n",
              " '__lt__',\n",
              " '__mod__',\n",
              " '__mul__',\n",
              " '__ne__',\n",
              " '__new__',\n",
              " '__reduce__',\n",
              " '__reduce_ex__',\n",
              " '__repr__',\n",
              " '__rmod__',\n",
              " '__rmul__',\n",
              " '__setattr__',\n",
              " '__sizeof__',\n",
              " '__str__',\n",
              " '__subclasshook__',\n",
              " 'capitalize',\n",
              " 'casefold',\n",
              " 'center',\n",
              " 'count',\n",
              " 'encode',\n",
              " 'endswith',\n",
              " 'expandtabs',\n",
              " 'find',\n",
              " 'format',\n",
              " 'format_map',\n",
              " 'index',\n",
              " 'isalnum',\n",
              " 'isalpha',\n",
              " 'isdecimal',\n",
              " 'isdigit',\n",
              " 'isidentifier',\n",
              " 'islower',\n",
              " 'isnumeric',\n",
              " 'isprintable',\n",
              " 'isspace',\n",
              " 'istitle',\n",
              " 'isupper',\n",
              " 'join',\n",
              " 'ljust',\n",
              " 'lower',\n",
              " 'lstrip',\n",
              " 'maketrans',\n",
              " 'partition',\n",
              " 'replace',\n",
              " 'rfind',\n",
              " 'rindex',\n",
              " 'rjust',\n",
              " 'rpartition',\n",
              " 'rsplit',\n",
              " 'rstrip',\n",
              " 'split',\n",
              " 'splitlines',\n",
              " 'startswith',\n",
              " 'strip',\n",
              " 'swapcase',\n",
              " 'title',\n",
              " 'translate',\n",
              " 'upper',\n",
              " 'zfill']"
            ]
          },
          "metadata": {
            "tags": []
          },
          "execution_count": 153
        }
      ]
    },
    {
      "cell_type": "code",
      "metadata": {
        "id": "kpx4IDBwVwxO",
        "colab_type": "code",
        "colab": {
          "base_uri": "https://localhost:8080/",
          "height": 175
        },
        "outputId": "9bf6252e-6f87-4b84-f23c-4e469db54c44"
      },
      "source": [
        "# dir 함수를 사용하여 \"Hello, World!\" 를 \"Hellz, Wzrld!\"로 바꾼 결과를 출력하시오. (알파벳 'o' -> 'z' 로 대체)\n",
        "help(a.replace)"
      ],
      "execution_count": 159,
      "outputs": [
        {
          "output_type": "stream",
          "text": [
            "Help on built-in function replace:\n",
            "\n",
            "replace(...) method of builtins.str instance\n",
            "    S.replace(old, new[, count]) -> str\n",
            "    \n",
            "    Return a copy of S with all occurrences of substring\n",
            "    old replaced by new.  If the optional argument count is\n",
            "    given, only the first count occurrences are replaced.\n",
            "\n"
          ],
          "name": "stdout"
        }
      ]
    },
    {
      "cell_type": "code",
      "metadata": {
        "id": "nwZg_7edycSP",
        "colab_type": "code",
        "colab": {
          "base_uri": "https://localhost:8080/",
          "height": 34
        },
        "outputId": "29c6fe79-08ee-4f5d-9fbc-94111719c6a6"
      },
      "source": [
        "print(a.replace('o', 'z'))"
      ],
      "execution_count": 166,
      "outputs": [
        {
          "output_type": "stream",
          "text": [
            "Hellz, Wzrld!\n"
          ],
          "name": "stdout"
        }
      ]
    },
    {
      "cell_type": "code",
      "metadata": {
        "id": "xw84U0czy37o",
        "colab_type": "code",
        "colab": {
          "base_uri": "https://localhost:8080/",
          "height": 34
        },
        "outputId": "cd2a2bea-d230-4b8e-9cc6-cf111ce2414b"
      },
      "source": [
        "print(a) #그니까 바로 위에 줄은 str a에서 o를 z로 바꿔서 출력할뿐 바뀐 채로 저장되는게 아닌듯함"
      ],
      "execution_count": 168,
      "outputs": [
        {
          "output_type": "stream",
          "text": [
            "Hello, World!\n"
          ],
          "name": "stdout"
        }
      ]
    },
    {
      "cell_type": "code",
      "metadata": {
        "id": "L_6F3g2dVwxX",
        "colab_type": "code",
        "colab": {
          "base_uri": "https://localhost:8080/",
          "height": 204
        },
        "outputId": "63f6eec6-b037-4ba1-c460-014769b8d19c"
      },
      "source": [
        "a = \"Hello, Warld!\"\n",
        "a[8] = 'o' # I want to change 'a' to 'o' : impossible (String : immutable object)\n",
        "                                              #String은 변경할수없는 객체라는 말"
      ],
      "execution_count": 169,
      "outputs": [
        {
          "output_type": "error",
          "ename": "TypeError",
          "evalue": "ignored",
          "traceback": [
            "\u001b[0;31m---------------------------------------------------------------------------\u001b[0m",
            "\u001b[0;31mTypeError\u001b[0m                                 Traceback (most recent call last)",
            "\u001b[0;32m<ipython-input-169-e2656ff92d2c>\u001b[0m in \u001b[0;36m<module>\u001b[0;34m()\u001b[0m\n\u001b[1;32m      1\u001b[0m \u001b[0ma\u001b[0m \u001b[0;34m=\u001b[0m \u001b[0;34m\"Hello, Warld!\"\u001b[0m\u001b[0;34m\u001b[0m\u001b[0;34m\u001b[0m\u001b[0m\n\u001b[0;32m----> 2\u001b[0;31m \u001b[0ma\u001b[0m\u001b[0;34m[\u001b[0m\u001b[0;36m8\u001b[0m\u001b[0;34m]\u001b[0m \u001b[0;34m=\u001b[0m \u001b[0;34m'o'\u001b[0m \u001b[0;31m# I want to change 'a' to 'o' : impossible (String : immutable object)\u001b[0m\u001b[0;34m\u001b[0m\u001b[0;34m\u001b[0m\u001b[0m\n\u001b[0m\u001b[1;32m      3\u001b[0m                                               \u001b[0;31m#String은 변경할수없는 객체라는 말\u001b[0m\u001b[0;34m\u001b[0m\u001b[0;34m\u001b[0m\u001b[0;34m\u001b[0m\u001b[0m\n",
            "\u001b[0;31mTypeError\u001b[0m: 'str' object does not support item assignment"
          ]
        }
      ]
    },
    {
      "cell_type": "code",
      "metadata": {
        "id": "xoR3ytuDVwxa",
        "colab_type": "code",
        "colab": {
          "base_uri": "https://localhost:8080/",
          "height": 34
        },
        "outputId": "175b35e7-bfbd-4a05-82c4-222fae9c0e85"
      },
      "source": [
        "\"Python is \" + \"fun\""
      ],
      "execution_count": 170,
      "outputs": [
        {
          "output_type": "execute_result",
          "data": {
            "text/plain": [
              "'Python is fun'"
            ]
          },
          "metadata": {
            "tags": []
          },
          "execution_count": 170
        }
      ]
    },
    {
      "cell_type": "code",
      "metadata": {
        "id": "MKdsR4ZSVwxg",
        "colab_type": "code",
        "colab": {
          "base_uri": "https://localhost:8080/",
          "height": 34
        },
        "outputId": "8397389c-6d98-4d67-edbf-9a384efcb491"
      },
      "source": [
        "\"Python\" * 3                #'PythonPythonPython'이라고 출력될것같음\n",
        "                            #근데 ''이건 왜 붙는 걸까"
      ],
      "execution_count": 172,
      "outputs": [
        {
          "output_type": "execute_result",
          "data": {
            "text/plain": [
              "'PythonPythonPython'"
            ]
          },
          "metadata": {
            "tags": []
          },
          "execution_count": 172
        }
      ]
    }
  ]
}