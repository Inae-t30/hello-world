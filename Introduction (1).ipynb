{
  "nbformat": 4,
  "nbformat_minor": 0,
  "metadata": {
    "anaconda-cloud": {},
    "kernelspec": {
      "name": "python3",
      "display_name": "Python 3"
    },
    "language_info": {
      "codemirror_mode": {
        "name": "ipython",
        "version": 3
      },
      "file_extension": ".py",
      "mimetype": "text/x-python",
      "name": "python",
      "nbconvert_exporter": "python",
      "pygments_lexer": "ipython3",
      "version": "3.6.7"
    },
    "colab": {
      "name": "Introduction.ipynb",
      "provenance": []
    },
    "accelerator": "GPU"
  },
  "cells": [
    {
      "cell_type": "markdown",
      "metadata": {
        "id": "PCT7OyJz4yxS",
        "colab_type": "text"
      },
      "source": [
        "## 3. List"
      ]
    },
    {
      "cell_type": "code",
      "metadata": {
        "id": "rnGJhIN94yxu",
        "colab_type": "code",
        "colab": {
          "base_uri": "https://localhost:8080/",
          "height": 122
        },
        "outputId": "603f309a-0f1b-4737-8e3c-ba08a8f42cc2"
      },
      "source": [
        "thislist = [1, 2, 3]\n",
        "print(thislist)\n",
        "print(type(thislist))\n",
        "print(\"index 0 :\" , thislist[0], \n",
        "      \"\\nindex 1 :\" , thislist[1], \n",
        "      \"\\nindex 2 :\" , thislist[2],\n",
        "      \"\\nlast value:\", thislist[-1])"
      ],
      "execution_count": 1,
      "outputs": [
        {
          "output_type": "stream",
          "text": [
            "[1, 2, 3]\n",
            "<class 'list'>\n",
            "index 0 : 1 \n",
            "index 1 : 2 \n",
            "index 2 : 3 \n",
            "last value: 3\n"
          ],
          "name": "stdout"
        }
      ]
    },
    {
      "cell_type": "code",
      "metadata": {
        "id": "qQJXUD-G4yxz",
        "colab_type": "code",
        "colab": {
          "base_uri": "https://localhost:8080/",
          "height": 105
        },
        "outputId": "9ad4ba9a-2578-4279-bfdb-e4df85c942be"
      },
      "source": [
        "thislist = [\"apple\", \"banana\", \"cherry\"]\n",
        "thislist[2] = \"strawberry\" # str과 다르게 list는 바꿀 수 있음\n",
        "print(thislist)\n",
        "print(type(thislist))\n",
        "print(\"index 0 :\" , thislist[0], \n",
        "      \"\\nindex 1 :\" , thislist[1], \n",
        "      \"\\nindex 2 :\" , thislist[2])"
      ],
      "execution_count": 4,
      "outputs": [
        {
          "output_type": "stream",
          "text": [
            "['apple', 'banana', 'strawberry']\n",
            "<class 'list'>\n",
            "index 0 : apple \n",
            "index 1 : banana \n",
            "index 2 : strawberry\n"
          ],
          "name": "stdout"
        }
      ]
    },
    {
      "cell_type": "code",
      "metadata": {
        "id": "KO4GJ1tF4yx5",
        "colab_type": "code",
        "colab": {
          "base_uri": "https://localhost:8080/",
          "height": 105
        },
        "outputId": "54d06cf5-d1c3-43a8-fccf-71b7c54daffe"
      },
      "source": [
        "thislist = [1, \"banana\", [1]] #list의 element로 list를 쓸 수 있음\n",
        "print(thislist)\n",
        "print(type(thislist))\n",
        "print(\"index 0 :\" , thislist[0], \n",
        "      \"\\nindex 1 :\" , thislist[1], \n",
        "      \"\\nindex 2 :\" , thislist[2])"
      ],
      "execution_count": 6,
      "outputs": [
        {
          "output_type": "stream",
          "text": [
            "[1, 'banana', [1]]\n",
            "<class 'list'>\n",
            "index 0 : 1 \n",
            "index 1 : banana \n",
            "index 2 : [1]\n"
          ],
          "name": "stdout"
        }
      ]
    },
    {
      "cell_type": "markdown",
      "metadata": {
        "id": "O_R49-7T4yyC",
        "colab_type": "text"
      },
      "source": [
        "### 3-1. List slicing"
      ]
    },
    {
      "cell_type": "code",
      "metadata": {
        "id": "AGQYkVSo4yyF",
        "colab_type": "code",
        "colab": {
          "base_uri": "https://localhost:8080/",
          "height": 34
        },
        "outputId": "6508a3c8-039d-453e-b181-023455162b1f"
      },
      "source": [
        "# How to slice our list?\n",
        "thislist = [1, 2, 3, 4, 5 ,6, 7, 8, 9, 10]\n",
        "newlist = thislist[2:6] #괄호 첫번째 index에 해당하는 element부터 두번째 index 전까지의 element들을 슬라이싱\n",
        "print(newlist)"
      ],
      "execution_count": 9,
      "outputs": [
        {
          "output_type": "stream",
          "text": [
            "[3, 4, 5, 6]\n"
          ],
          "name": "stdout"
        }
      ]
    },
    {
      "cell_type": "code",
      "metadata": {
        "id": "uwY8_lfH4yyM",
        "colab_type": "code",
        "colab": {
          "base_uri": "https://localhost:8080/",
          "height": 34
        },
        "outputId": "b7aaec7c-e885-4ae4-b9a8-21fc387b2bbe"
      },
      "source": [
        "newlist = thislist[:] #왼쪽에 아무것도 안적으면 처음부터, 오른쪽은 끝까지 이런 뜻\n",
        "print(newlist)"
      ],
      "execution_count": 13,
      "outputs": [
        {
          "output_type": "stream",
          "text": [
            "[1, 2, 3, 4, 5, 6, 7, 8, 9, 10]\n"
          ],
          "name": "stdout"
        }
      ]
    },
    {
      "cell_type": "code",
      "metadata": {
        "id": "HYOKWzEV4yyT",
        "colab_type": "code",
        "colab": {
          "base_uri": "https://localhost:8080/",
          "height": 34
        },
        "outputId": "d6d1289a-60d7-49c3-dd77-109a4303852d"
      },
      "source": [
        "anotherlist = [3, 5, 7, 9, 11 ,13, 15, 17, 19]\n",
        "\n",
        "# 4th ~ 8th elements ( new list will have 5 elements)\n",
        "# correct answer : [9, 11, 13, 15, 17]\n",
        "\n",
        "start = 3\n",
        "end = -1   # -2라고 적으려다가 어쨌든 해당 index 전까지 슬라이싱할 것 같아서 -1했는데 추측이 맞는듯\n",
        "newlist = anotherlist[ start : end ]\n",
        "print(newlist)"
      ],
      "execution_count": 16,
      "outputs": [
        {
          "output_type": "stream",
          "text": [
            "[9, 11, 13, 15, 17]\n"
          ],
          "name": "stdout"
        }
      ]
    },
    {
      "cell_type": "code",
      "metadata": {
        "id": "f_NxSsbj4yyZ",
        "colab_type": "code",
        "colab": {
          "base_uri": "https://localhost:8080/",
          "height": 34
        },
        "outputId": "716d29cf-8315-4a1b-90e9-ccdd9ed648f1"
      },
      "source": [
        "thislist = [[1,2,3],[4,5,6],[7,8,9]]\n",
        "newlist = thislist[1]\n",
        "print (newlist)"
      ],
      "execution_count": 17,
      "outputs": [
        {
          "output_type": "stream",
          "text": [
            "[4, 5, 6]\n"
          ],
          "name": "stdout"
        }
      ]
    },
    {
      "cell_type": "code",
      "metadata": {
        "id": "15H7tB9E4yyd",
        "colab_type": "code",
        "colab": {
          "base_uri": "https://localhost:8080/",
          "height": 34
        },
        "outputId": "d3cafb36-f832-48fc-9794-ec59ef1cad0c"
      },
      "source": [
        "thislist = [[1,2,3],[4,5,6],[7,8,9]]\n",
        "newlist = thislist[0:2]\n",
        "print (newlist)"
      ],
      "execution_count": 18,
      "outputs": [
        {
          "output_type": "stream",
          "text": [
            "[[1, 2, 3], [4, 5, 6]]\n"
          ],
          "name": "stdout"
        }
      ]
    },
    {
      "cell_type": "code",
      "metadata": {
        "id": "eokO-dzr4yyh",
        "colab_type": "code",
        "colab": {
          "base_uri": "https://localhost:8080/",
          "height": 34
        },
        "outputId": "0366f4d7-0140-4676-d3d9-bc05cbff1d3a"
      },
      "source": [
        "# we want element 3\n",
        "newlist = thislist[0][2] # 예전에 파이썬 조금한걸로 풀었는데 가장 큰 리스트 범위 index 다음에 선택된 리스트 index 하면 됨\n",
        "print (newlist)"
      ],
      "execution_count": 21,
      "outputs": [
        {
          "output_type": "stream",
          "text": [
            "3\n"
          ],
          "name": "stdout"
        }
      ]
    },
    {
      "cell_type": "code",
      "metadata": {
        "id": "8P14e2Sy4yyr",
        "colab_type": "code",
        "colab": {
          "base_uri": "https://localhost:8080/",
          "height": 34
        },
        "outputId": "40c8104b-0aa4-48d6-f59d-539422105f39"
      },
      "source": [
        "[1, 2, 3] + [4, 5, 6] #element끼리의 합이 아니라 list가 두 개로 합쳐질뿐"
      ],
      "execution_count": 23,
      "outputs": [
        {
          "output_type": "execute_result",
          "data": {
            "text/plain": [
              "[1, 2, 3, 4, 5, 6]"
            ]
          },
          "metadata": {
            "tags": []
          },
          "execution_count": 23
        }
      ]
    },
    {
      "cell_type": "code",
      "metadata": {
        "id": "r-Md3s504yy3",
        "colab_type": "code",
        "colab": {
          "base_uri": "https://localhost:8080/",
          "height": 34
        },
        "outputId": "686a4b5e-d53a-444b-d30b-8b7e78251f9e"
      },
      "source": [
        "[1, 2, 3] * 3"
      ],
      "execution_count": 24,
      "outputs": [
        {
          "output_type": "execute_result",
          "data": {
            "text/plain": [
              "[1, 2, 3, 1, 2, 3, 1, 2, 3]"
            ]
          },
          "metadata": {
            "tags": []
          },
          "execution_count": 24
        }
      ]
    },
    {
      "cell_type": "code",
      "metadata": {
        "id": "kjod968n4yzJ",
        "colab_type": "code",
        "colab": {
          "base_uri": "https://localhost:8080/",
          "height": 52
        },
        "outputId": "512fa656-b0e1-4b6f-f445-6d5a11fdffde"
      },
      "source": [
        "# 리스트 a = [1, 2, 3] 에 원소 4(b)를 추가하고 싶다면? (append 사용)\n",
        "a = [1,2,3]\n",
        "b = 4\n",
        "\n",
        "# Type your code here\n",
        "c = [1]\n",
        "c[0] = b\n",
        "a = a + c\n",
        "\n",
        "print (a)\n",
        "print (len(a))"
      ],
      "execution_count": 39,
      "outputs": [
        {
          "output_type": "stream",
          "text": [
            "[1, 2, 3, 4]\n",
            "4\n"
          ],
          "name": "stdout"
        }
      ]
    },
    {
      "cell_type": "code",
      "metadata": {
        "id": "juNdqmIa4yzT",
        "colab_type": "code",
        "colab": {}
      },
      "source": [
        "a = [1,1005,24,267,1,6,3,78,9,37,9,47]"
      ],
      "execution_count": 0,
      "outputs": []
    },
    {
      "cell_type": "code",
      "metadata": {
        "id": "lrl3bbKr4yzd",
        "colab_type": "code",
        "colab": {
          "base_uri": "https://localhost:8080/",
          "height": 34
        },
        "outputId": "e8883d93-9a17-44a6-d465-5e9f6cc735a8"
      },
      "source": [
        "a.sort() # 오름차순으로 sorting\n",
        "print (a)"
      ],
      "execution_count": 42,
      "outputs": [
        {
          "output_type": "stream",
          "text": [
            "[1, 1, 3, 6, 9, 9, 24, 37, 47, 78, 267, 1005]\n"
          ],
          "name": "stdout"
        }
      ]
    },
    {
      "cell_type": "markdown",
      "metadata": {
        "id": "953JxHe94yzt",
        "colab_type": "text"
      },
      "source": [
        "## 4. tuple"
      ]
    },
    {
      "cell_type": "code",
      "metadata": {
        "id": "gVKhaZ4f4yzu",
        "colab_type": "code",
        "colab": {
          "base_uri": "https://localhost:8080/",
          "height": 52
        },
        "outputId": "92e7ba9c-e502-4495-ba35-d6342065203f"
      },
      "source": [
        "thistuple = (\"apple\", \"banana\", \"cherry\")  #튜플은 ()이거 쓰나봄\n",
        "print(thistuple)\n",
        "print(type(thistuple))"
      ],
      "execution_count": 45,
      "outputs": [
        {
          "output_type": "stream",
          "text": [
            "('apple', 'banana', 'cherry')\n",
            "<class 'tuple'>\n"
          ],
          "name": "stdout"
        }
      ]
    },
    {
      "cell_type": "code",
      "metadata": {
        "id": "wFNrWull4yz7",
        "colab_type": "code",
        "colab": {
          "base_uri": "https://localhost:8080/",
          "height": 34
        },
        "outputId": "abfbaa42-ff1e-4d34-d9b8-5969a3f779d6"
      },
      "source": [
        "thistuple = (\"apple\", \"banana\", \"cherry\")\n",
        "print(thistuple[1]) #인덱싱은 리스트랑 동일"
      ],
      "execution_count": 47,
      "outputs": [
        {
          "output_type": "stream",
          "text": [
            "banana\n"
          ],
          "name": "stdout"
        }
      ]
    },
    {
      "cell_type": "markdown",
      "metadata": {
        "id": "e3C-cD0b4y0C",
        "colab_type": "text"
      },
      "source": [
        "tuple은 list와 동일하게 element에 접근할 수 있다. 그러나 element의 변경을 허용하지 않도록 의도할 때 list 대신 사용한다."
      ]
    },
    {
      "cell_type": "code",
      "metadata": {
        "id": "7o_dHzRq4y0L",
        "colab_type": "code",
        "colab": {
          "base_uri": "https://localhost:8080/",
          "height": 204
        },
        "outputId": "344ccf6e-bb9f-4a62-a893-50e5eaea124a"
      },
      "source": [
        "thistuple = (\"apple\", \"banana\", \"cherry\")\n",
        "thistuple[1] = \"mango\"\n",
        "print(thistuple)"
      ],
      "execution_count": 48,
      "outputs": [
        {
          "output_type": "error",
          "ename": "TypeError",
          "evalue": "ignored",
          "traceback": [
            "\u001b[0;31m---------------------------------------------------------------------------\u001b[0m",
            "\u001b[0;31mTypeError\u001b[0m                                 Traceback (most recent call last)",
            "\u001b[0;32m<ipython-input-48-e5d15fc3488e>\u001b[0m in \u001b[0;36m<module>\u001b[0;34m()\u001b[0m\n\u001b[1;32m      1\u001b[0m \u001b[0mthistuple\u001b[0m \u001b[0;34m=\u001b[0m \u001b[0;34m(\u001b[0m\u001b[0;34m\"apple\"\u001b[0m\u001b[0;34m,\u001b[0m \u001b[0;34m\"banana\"\u001b[0m\u001b[0;34m,\u001b[0m \u001b[0;34m\"cherry\"\u001b[0m\u001b[0;34m)\u001b[0m\u001b[0;34m\u001b[0m\u001b[0;34m\u001b[0m\u001b[0m\n\u001b[0;32m----> 2\u001b[0;31m \u001b[0mthistuple\u001b[0m\u001b[0;34m[\u001b[0m\u001b[0;36m1\u001b[0m\u001b[0;34m]\u001b[0m \u001b[0;34m=\u001b[0m \u001b[0;34m\"mango\"\u001b[0m\u001b[0;34m\u001b[0m\u001b[0;34m\u001b[0m\u001b[0m\n\u001b[0m\u001b[1;32m      3\u001b[0m \u001b[0mprint\u001b[0m\u001b[0;34m(\u001b[0m\u001b[0mthistuple\u001b[0m\u001b[0;34m)\u001b[0m\u001b[0;34m\u001b[0m\u001b[0;34m\u001b[0m\u001b[0m\n",
            "\u001b[0;31mTypeError\u001b[0m: 'tuple' object does not support item assignment"
          ]
        }
      ]
    },
    {
      "cell_type": "code",
      "metadata": {
        "id": "zIW0vPYD4y0T",
        "colab_type": "code",
        "colab": {
          "base_uri": "https://localhost:8080/",
          "height": 34
        },
        "outputId": "bbbbf931-ac50-420f-cfcd-1b1919564e20"
      },
      "source": [
        "thistuple = (\"apple\", \"banana\", \"cherry\")\n",
        "print(thistuple[0:2]) #슬라이싱도 리스트랑 동일"
      ],
      "execution_count": 50,
      "outputs": [
        {
          "output_type": "stream",
          "text": [
            "('apple', 'banana')\n"
          ],
          "name": "stdout"
        }
      ]
    },
    {
      "cell_type": "code",
      "metadata": {
        "id": "tCWIfHhC4y0f",
        "colab_type": "code",
        "colab": {
          "base_uri": "https://localhost:8080/",
          "height": 34
        },
        "outputId": "23c3b676-b889-4a16-e6b2-3da7e5d0efbe"
      },
      "source": [
        "(\"apple\", \"banana\", \"cherry\") + (\"mango\",) #이것두"
      ],
      "execution_count": 52,
      "outputs": [
        {
          "output_type": "execute_result",
          "data": {
            "text/plain": [
              "('apple', 'banana', 'cherry', 'mango')"
            ]
          },
          "metadata": {
            "tags": []
          },
          "execution_count": 52
        }
      ]
    },
    {
      "cell_type": "code",
      "metadata": {
        "id": "O6PWIFO54y0z",
        "colab_type": "code",
        "colab": {
          "base_uri": "https://localhost:8080/",
          "height": 34
        },
        "outputId": "09afa677-904d-4b52-a7b4-023650a3382f"
      },
      "source": [
        "(\"apple\", \"banana\", \"cherry\") * 2 #이것두"
      ],
      "execution_count": 54,
      "outputs": [
        {
          "output_type": "execute_result",
          "data": {
            "text/plain": [
              "('apple', 'banana', 'cherry', 'apple', 'banana', 'cherry')"
            ]
          },
          "metadata": {
            "tags": []
          },
          "execution_count": 54
        }
      ]
    },
    {
      "cell_type": "markdown",
      "metadata": {
        "id": "2SKOBU0o4y03",
        "colab_type": "text"
      },
      "source": [
        "## 5. dictionary"
      ]
    },
    {
      "cell_type": "markdown",
      "metadata": {
        "id": "PVUu69Fw4y05",
        "colab_type": "text"
      },
      "source": [
        "Dictionary는 key와 value를 한 쌍으로 가지는 element들의 집합이다."
      ]
    },
    {
      "cell_type": "code",
      "metadata": {
        "id": "bVQ8Oax34y07",
        "colab_type": "code",
        "colab": {
          "base_uri": "https://localhost:8080/",
          "height": 52
        },
        "outputId": "e15e98b2-391c-480c-b3ae-2b4e8dd19148"
      },
      "source": [
        "# 직접 생성\n",
        "thisdict = {\n",
        "  \"name\": \"Damian\",\n",
        "  \"height\": 180,\n",
        "  \"weight\": 60\n",
        "}\n",
        "print(thisdict)\n",
        "print(type(thisdict))"
      ],
      "execution_count": 55,
      "outputs": [
        {
          "output_type": "stream",
          "text": [
            "{'name': 'Damian', 'height': 180, 'weight': 60}\n",
            "<class 'dict'>\n"
          ],
          "name": "stdout"
        }
      ]
    },
    {
      "cell_type": "code",
      "metadata": {
        "id": "ll55jCoR4y1A",
        "colab_type": "code",
        "colab": {
          "base_uri": "https://localhost:8080/",
          "height": 52
        },
        "outputId": "dc2e3346-56df-48ca-d17f-8af993358722"
      },
      "source": [
        "# dict() 사용\n",
        "thisdict = dict(\n",
        "    name = \"Damian\",\n",
        "    height = 180,          #위에껀 딕셔너리 형식으로 써야하는 거고 이건 dict()라는 함수로 변수에 값 할당하는 것처럼 딕셔너리를 만들수 있음\n",
        "    weight = 60\n",
        ")\n",
        "print(thisdict)\n",
        "print(type(thisdict))"
      ],
      "execution_count": 57,
      "outputs": [
        {
          "output_type": "stream",
          "text": [
            "{'name': 'Damian', 'height': 180, 'weight': 60}\n",
            "<class 'dict'>\n"
          ],
          "name": "stdout"
        }
      ]
    },
    {
      "cell_type": "code",
      "metadata": {
        "id": "Dmc4NWlR4y1G",
        "colab_type": "code",
        "colab": {
          "base_uri": "https://localhost:8080/",
          "height": 52
        },
        "outputId": "e64cc341-96dd-4576-fea6-172213df5657"
      },
      "source": [
        "# from other types\n",
        "info = [('name','Damian'),('height',180),('weight',60)] #튜플 3개를 element로 가지는 리스트\n",
        "thisdict = dict(info) #그 리스트를 딕셔너리로 만듦\n",
        "print (thisdict)\n",
        "print(type(thisdict))"
      ],
      "execution_count": 59,
      "outputs": [
        {
          "output_type": "stream",
          "text": [
            "{'name': 'Damian', 'height': 180, 'weight': 60}\n",
            "<class 'dict'>\n"
          ],
          "name": "stdout"
        }
      ]
    },
    {
      "cell_type": "code",
      "metadata": {
        "id": "nIhQ4cg84y1j",
        "colab_type": "code",
        "colab": {
          "base_uri": "https://localhost:8080/",
          "height": 34
        },
        "outputId": "9e0a671c-b427-4211-8606-37eb979b82eb"
      },
      "source": [
        "x = thisdict[\"name\"] #name이라는 key값에 해당하는 value인 damian이 x에 저장\n",
        "print('value :', x)"
      ],
      "execution_count": 61,
      "outputs": [
        {
          "output_type": "stream",
          "text": [
            "value : Damian\n"
          ],
          "name": "stdout"
        }
      ]
    },
    {
      "cell_type": "code",
      "metadata": {
        "id": "KMg21b1_4y1s",
        "colab_type": "code",
        "colab": {
          "base_uri": "https://localhost:8080/",
          "height": 34
        },
        "outputId": "d041772e-b330-4e60-a126-a28afb643d02"
      },
      "source": [
        "# 새로운 정보 추가\n",
        "thisdict[\"age\"] = 25   #딕셔너리의 새로운 key를 그냥 적고 값을 할당만 해주면 됨 아무것도 안적으면 안되더라\n",
        "print (thisdict)"
      ],
      "execution_count": 66,
      "outputs": [
        {
          "output_type": "stream",
          "text": [
            "{'name': 'Damian', 'height': 180, 'weight': 60, 'age': 25}\n"
          ],
          "name": "stdout"
        }
      ]
    },
    {
      "cell_type": "code",
      "metadata": {
        "id": "C05ZOYoI4y11",
        "colab_type": "code",
        "colab": {
          "base_uri": "https://localhost:8080/",
          "height": 70
        },
        "outputId": "b9d1388b-3261-45af-d12e-ed582aff740b"
      },
      "source": [
        "# 본인의 정보(이름, 나이, 성별)로 이루어진 딕셔너리를 만들어보시오.\n",
        "I_dict = {\n",
        "    'name': 'Inae',           #콤마 안쓰면 안되더라\n",
        "    'age': 23,   #23이라고 쓰면 integer로 인식해서 값을 할당하고 '23'이라고 쓰면 str 취급하겠지..? 어쨌든 둘다 가능\n",
        "    'sex': 'f'\n",
        "}\n",
        "print(I_dict)\n",
        "\n",
        "I_dict = dict(\n",
        "    name = 'minsu',\n",
        "    age = 19,\n",
        "    sex = 'm'\n",
        ")\n",
        "print(I_dict)     #딕셔너리 쓸때 t빼먹지않도록 하자\n",
        "\n",
        "info = [('name','yeongsook'),('age',46),('sex','f')]\n",
        "I_dict = dict(info)\n",
        "print(I_dict)"
      ],
      "execution_count": 85,
      "outputs": [
        {
          "output_type": "stream",
          "text": [
            "{'name': 'Inae', 'age': 23, 'sex': 'f'}\n",
            "{'name': 'minsu', 'age': 19, 'sex': 'm'}\n",
            "{'name': 'yeongsook', 'age': 46, 'sex': 'f'}\n"
          ],
          "name": "stdout"
        }
      ]
    }
  ]
}